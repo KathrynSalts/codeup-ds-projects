{
 "cells": [
  {
   "cell_type": "markdown",
   "metadata": {},
   "source": [
    "# Zillow Zestimate Features That Drive Error"
   ]
  },
  {
   "cell_type": "markdown",
   "metadata": {},
   "source": [
    "\n",
    "## Project Planning\n",
    "\n",
    "### Goals\n",
    "\n",
    "To determine the features that drive Zillow's Zestimate error. "
   ]
  },
  {
   "cell_type": "markdown",
   "metadata": {},
   "source": [
    "### Deliverables\n",
    "\n",
    "What should the zillow team expect to receive from you?  Again, as you were communicating to them, not to your instructors.  \n",
    "\n",
    "*your deliverables:*\n",
    "1. *A report (in the form of a presentation, both verbal and through a slides) that summarizes your findings about the drivers of the Zestimate error. This will come from the analysis you do during the exploration phase of the pipeline. In the report, you will have charts that visually tell the story of what is driving the errors.*\n",
    "\n",
    "2. *A Jupyter notebook, titled 'Regression_Proj_YourName', that contains a clearly labeled section and code clearly documented for each the stages below (project planning, data acquisition, data prep, exploration, and modeling). All of the work will take place in your jupyter notebook.*"
   ]
  },
  {
   "attachments": {},
   "cell_type": "markdown",
   "metadata": {},
   "source": [
    "### Data Dictionary & Details\n",
    "\n",
    "- logerror- The log function of the difference of the sales price and the Zestimate.\n",
    "- bathroomcnt- Number of bathrooms in home including fractional bathrooms\n",
    "- bedroomcnt- Number of bedrooms in home\n",
    "- calculatedfinishedsquarefeet- Calculated total finished living area of the home\n",
    "- fullbathcnt- Number of full bathrooms (sink, shower + bathtub, and toilet) present in home\n",
    "- garagecarcnt- Total number of garages on the lot including an attached garage\n",
    "- roomcnt- Total number of rooms in the principal residence\n",
    "- yearbuilt- The Year the principal residence was built\n",
    "- taxvaluedollarcnt- The total tax assessed value of the parcel\n",
    "- taxamount- The total property tax assessed for that assessment year\n",
    "- rmcount- The sum of bathroom count and bedroom count\n",
    "- value_per_sq_ft- tax value dollar count divided by calculated finished square feet\n",
    "- age_of_property- Age in years of property since it was built\n",
    "- abs_logerror- Absolute value of log error"
   ]
  },
  {
   "cell_type": "markdown",
   "metadata": {},
   "source": [
    "### Initial Thoughts, Ideas, Hypotheses\n",
    "\n",
    "- There are some variables that are redundant and can be dropped: fullbathcnt, one of the tax variables\n",
    "- Some variables have so much information missing that they can be dropped: garagecnt\n",
    "- room count does not seem accurate... might make a new one\n",
    "- square feet and tax value dollar count might have the biggest impact on error\n",
    "- Plan on filling the nulls with zeros and dropping rows where zero does not make sense\n",
    "- Would be interesting to make columns for age in years of property and tax value per sq ft\n",
    "- Would taking absolute value of log error make visualization better?"
   ]
  },
  {
   "cell_type": "markdown",
   "metadata": {},
   "source": [
    "### Prepare your environment\n",
    "\n",
    "import libraries you will use throughout the project.  You may need to add to this as you go.  But try to keep all of your imports in this section"
   ]
  },
  {
   "cell_type": "code",
   "execution_count": 71,
   "metadata": {},
   "outputs": [],
   "source": [
    "import pandas as pd\n",
    "\n",
    "import scipy.stats as stats\n",
    "\n",
    "%matplotlib inline\n",
    "import matplotlib.pyplot as plt\n",
    "\n",
    "import seaborn as sns\n",
    "\n",
    "import statsmodels.api as sm\n",
    "\n",
    "from scipy.stats import pearsonr, ttest_ind\n",
    "\n",
    "from sklearn.model_selection import train_test_split\n",
    "from sklearn.linear_model import LinearRegression\n",
    "from sklearn.metrics import mean_squared_error, r2_score, mean_absolute_error, median_absolute_error"
   ]
  },
  {
   "cell_type": "markdown",
   "metadata": {},
   "source": [
    "### Data Acquisition\n",
    "\n",
    "#### Acquire via csv\n",
    "\n",
    "- add the path to where your files are located in your env.py file. \n",
    "- ensure that others can read the files based on their local env.py file. \n",
    "\n",
    "recommendations for dealing with the large dataset\n",
    "- remove any without a logerror\n",
    "- sample until you have the right query (and then pull entire dataset)\n",
    "- export to local csv \n",
    "- read from local csv (sample, but larger sample than your first) \n",
    "- save sql query to add into to_sql() function in python. "
   ]
  },
  {
   "cell_type": "code",
   "execution_count": 72,
   "metadata": {},
   "outputs": [
    {
     "name": "stderr",
     "output_type": "stream",
     "text": [
      "/usr/local/anaconda3/lib/python3.7/site-packages/IPython/core/interactiveshell.py:3020: DtypeWarning: Columns (22,32,34,49,55) have mixed types. Specify dtype option on import or set low_memory=False.\n",
      "  interactivity=interactivity, compiler=compiler, result=result)\n"
     ]
    }
   ],
   "source": [
    "path = './'\n",
    "df_prop = pd.read_csv(path + \"properties_2016.csv\")\n",
    "df_log = pd.read_csv(path + \"train_2016_v2.csv\")"
   ]
  },
  {
   "cell_type": "code",
   "execution_count": 73,
   "metadata": {},
   "outputs": [
    {
     "data": {
      "text/plain": [
       "0"
      ]
     },
     "execution_count": 73,
     "metadata": {},
     "output_type": "execute_result"
    }
   ],
   "source": [
    "df_merge = df_prop.merge(df_log, on='parcelid',how='inner')\n",
    "df_merge.duplicated().sum()"
   ]
  },
  {
   "cell_type": "code",
   "execution_count": 74,
   "metadata": {},
   "outputs": [
    {
     "data": {
      "text/plain": [
       "(90275, 11)"
      ]
     },
     "execution_count": 74,
     "metadata": {},
     "output_type": "execute_result"
    }
   ],
   "source": [
    "df = df_merge[['parcelid', 'logerror', 'bathroomcnt', 'bedroomcnt', 'calculatedfinishedsquarefeet', 'fullbathcnt', 'garagecarcnt', 'roomcnt', 'yearbuilt', 'taxvaluedollarcnt', 'taxamount']]\n",
    "df.shape"
   ]
  },
  {
   "cell_type": "markdown",
   "metadata": {},
   "source": [
    "### Data Preparation"
   ]
  },
  {
   "cell_type": "code",
   "execution_count": 75,
   "metadata": {},
   "outputs": [
    {
     "name": "stdout",
     "output_type": "stream",
     "text": [
      "<class 'pandas.core.frame.DataFrame'>\n",
      "Int64Index: 90275 entries, 0 to 90274\n",
      "Data columns (total 11 columns):\n",
      "parcelid                        90275 non-null int64\n",
      "logerror                        90275 non-null float64\n",
      "bathroomcnt                     90275 non-null float64\n",
      "bedroomcnt                      90275 non-null float64\n",
      "calculatedfinishedsquarefeet    89614 non-null float64\n",
      "fullbathcnt                     89093 non-null float64\n",
      "garagecarcnt                    29937 non-null float64\n",
      "roomcnt                         90275 non-null float64\n",
      "yearbuilt                       89519 non-null float64\n",
      "taxvaluedollarcnt               90274 non-null float64\n",
      "taxamount                       90269 non-null float64\n",
      "dtypes: float64(10), int64(1)\n",
      "memory usage: 8.3 MB\n"
     ]
    }
   ],
   "source": [
    "df.info()"
   ]
  },
  {
   "cell_type": "code",
   "execution_count": 76,
   "metadata": {},
   "outputs": [],
   "source": [
    "df2 = df.fillna(0)"
   ]
  },
  {
   "cell_type": "code",
   "execution_count": 77,
   "metadata": {},
   "outputs": [
    {
     "name": "stdout",
     "output_type": "stream",
     "text": [
      "<class 'pandas.core.frame.DataFrame'>\n",
      "Int64Index: 90275 entries, 0 to 90274\n",
      "Data columns (total 11 columns):\n",
      "parcelid                        90275 non-null int64\n",
      "logerror                        90275 non-null float64\n",
      "bathroomcnt                     90275 non-null float64\n",
      "bedroomcnt                      90275 non-null float64\n",
      "calculatedfinishedsquarefeet    90275 non-null float64\n",
      "fullbathcnt                     90275 non-null float64\n",
      "garagecarcnt                    90275 non-null float64\n",
      "roomcnt                         90275 non-null float64\n",
      "yearbuilt                       90275 non-null float64\n",
      "taxvaluedollarcnt               90275 non-null float64\n",
      "taxamount                       90275 non-null float64\n",
      "dtypes: float64(10), int64(1)\n",
      "memory usage: 8.3 MB\n"
     ]
    }
   ],
   "source": [
    "df2.info()"
   ]
  },
  {
   "cell_type": "code",
   "execution_count": 78,
   "metadata": {},
   "outputs": [
    {
     "data": {
      "text/plain": [
       "(90150, 11)"
      ]
     },
     "execution_count": 78,
     "metadata": {},
     "output_type": "execute_result"
    }
   ],
   "source": [
    "df2 = df.drop_duplicates(subset='parcelid', keep='first', inplace=False)\n",
    "df2.shape"
   ]
  },
  {
   "cell_type": "code",
   "execution_count": 79,
   "metadata": {},
   "outputs": [
    {
     "data": {
      "text/plain": [
       "parcelid                          int64\n",
       "logerror                        float64\n",
       "bathroomcnt                     float64\n",
       "bedroomcnt                      float64\n",
       "calculatedfinishedsquarefeet    float64\n",
       "fullbathcnt                     float64\n",
       "garagecarcnt                    float64\n",
       "roomcnt                         float64\n",
       "yearbuilt                       float64\n",
       "taxvaluedollarcnt               float64\n",
       "taxamount                       float64\n",
       "dtype: object"
      ]
     },
     "execution_count": 79,
     "metadata": {},
     "output_type": "execute_result"
    }
   ],
   "source": [
    "df2.dtypes"
   ]
  },
  {
   "cell_type": "code",
   "execution_count": 80,
   "metadata": {},
   "outputs": [
    {
     "data": {
      "text/html": [
       "<div>\n",
       "<style scoped>\n",
       "    .dataframe tbody tr th:only-of-type {\n",
       "        vertical-align: middle;\n",
       "    }\n",
       "\n",
       "    .dataframe tbody tr th {\n",
       "        vertical-align: top;\n",
       "    }\n",
       "\n",
       "    .dataframe thead th {\n",
       "        text-align: right;\n",
       "    }\n",
       "</style>\n",
       "<table border=\"1\" class=\"dataframe\">\n",
       "  <thead>\n",
       "    <tr style=\"text-align: right;\">\n",
       "      <th></th>\n",
       "      <th>parcelid</th>\n",
       "      <th>logerror</th>\n",
       "      <th>bathroomcnt</th>\n",
       "      <th>bedroomcnt</th>\n",
       "      <th>calculatedfinishedsquarefeet</th>\n",
       "      <th>fullbathcnt</th>\n",
       "      <th>garagecarcnt</th>\n",
       "      <th>roomcnt</th>\n",
       "      <th>yearbuilt</th>\n",
       "      <th>taxvaluedollarcnt</th>\n",
       "      <th>taxamount</th>\n",
       "    </tr>\n",
       "  </thead>\n",
       "  <tbody>\n",
       "    <tr>\n",
       "      <th>0</th>\n",
       "      <td>17073783</td>\n",
       "      <td>0.0953</td>\n",
       "      <td>2.5</td>\n",
       "      <td>3.0</td>\n",
       "      <td>1264.0</td>\n",
       "      <td>2.0</td>\n",
       "      <td>2.0</td>\n",
       "      <td>5.0</td>\n",
       "      <td>1986.0</td>\n",
       "      <td>191811.0</td>\n",
       "      <td>2015.06</td>\n",
       "    </tr>\n",
       "    <tr>\n",
       "      <th>1</th>\n",
       "      <td>17088994</td>\n",
       "      <td>0.0198</td>\n",
       "      <td>1.0</td>\n",
       "      <td>2.0</td>\n",
       "      <td>777.0</td>\n",
       "      <td>1.0</td>\n",
       "      <td>1.0</td>\n",
       "      <td>4.0</td>\n",
       "      <td>1990.0</td>\n",
       "      <td>239679.0</td>\n",
       "      <td>2581.30</td>\n",
       "    </tr>\n",
       "    <tr>\n",
       "      <th>2</th>\n",
       "      <td>17100444</td>\n",
       "      <td>0.0060</td>\n",
       "      <td>2.0</td>\n",
       "      <td>3.0</td>\n",
       "      <td>1101.0</td>\n",
       "      <td>2.0</td>\n",
       "      <td>2.0</td>\n",
       "      <td>5.0</td>\n",
       "      <td>1956.0</td>\n",
       "      <td>47853.0</td>\n",
       "      <td>591.64</td>\n",
       "    </tr>\n",
       "    <tr>\n",
       "      <th>3</th>\n",
       "      <td>17102429</td>\n",
       "      <td>-0.0566</td>\n",
       "      <td>1.5</td>\n",
       "      <td>2.0</td>\n",
       "      <td>1554.0</td>\n",
       "      <td>1.0</td>\n",
       "      <td>2.0</td>\n",
       "      <td>5.0</td>\n",
       "      <td>1965.0</td>\n",
       "      <td>62914.0</td>\n",
       "      <td>682.78</td>\n",
       "    </tr>\n",
       "    <tr>\n",
       "      <th>4</th>\n",
       "      <td>17109604</td>\n",
       "      <td>0.0573</td>\n",
       "      <td>2.5</td>\n",
       "      <td>4.0</td>\n",
       "      <td>2415.0</td>\n",
       "      <td>2.0</td>\n",
       "      <td>2.0</td>\n",
       "      <td>8.0</td>\n",
       "      <td>1984.0</td>\n",
       "      <td>554000.0</td>\n",
       "      <td>5886.92</td>\n",
       "    </tr>\n",
       "    <tr>\n",
       "      <th>5</th>\n",
       "      <td>17125829</td>\n",
       "      <td>0.0564</td>\n",
       "      <td>2.5</td>\n",
       "      <td>4.0</td>\n",
       "      <td>2882.0</td>\n",
       "      <td>2.0</td>\n",
       "      <td>2.0</td>\n",
       "      <td>8.0</td>\n",
       "      <td>1980.0</td>\n",
       "      <td>289609.0</td>\n",
       "      <td>3110.44</td>\n",
       "    </tr>\n",
       "    <tr>\n",
       "      <th>6</th>\n",
       "      <td>17132911</td>\n",
       "      <td>0.0315</td>\n",
       "      <td>2.0</td>\n",
       "      <td>3.0</td>\n",
       "      <td>1772.0</td>\n",
       "      <td>2.0</td>\n",
       "      <td>2.0</td>\n",
       "      <td>6.0</td>\n",
       "      <td>1978.0</td>\n",
       "      <td>526000.0</td>\n",
       "      <td>5632.20</td>\n",
       "    </tr>\n",
       "    <tr>\n",
       "      <th>7</th>\n",
       "      <td>17134926</td>\n",
       "      <td>0.0257</td>\n",
       "      <td>2.5</td>\n",
       "      <td>5.0</td>\n",
       "      <td>2632.0</td>\n",
       "      <td>2.0</td>\n",
       "      <td>2.0</td>\n",
       "      <td>8.0</td>\n",
       "      <td>1971.0</td>\n",
       "      <td>571086.0</td>\n",
       "      <td>6109.94</td>\n",
       "    </tr>\n",
       "    <tr>\n",
       "      <th>8</th>\n",
       "      <td>17139988</td>\n",
       "      <td>0.0020</td>\n",
       "      <td>2.0</td>\n",
       "      <td>3.0</td>\n",
       "      <td>1292.0</td>\n",
       "      <td>2.0</td>\n",
       "      <td>2.0</td>\n",
       "      <td>6.0</td>\n",
       "      <td>1979.0</td>\n",
       "      <td>462594.0</td>\n",
       "      <td>5026.40</td>\n",
       "    </tr>\n",
       "    <tr>\n",
       "      <th>9</th>\n",
       "      <td>17167359</td>\n",
       "      <td>-0.0576</td>\n",
       "      <td>1.0</td>\n",
       "      <td>3.0</td>\n",
       "      <td>1385.0</td>\n",
       "      <td>1.0</td>\n",
       "      <td>1.0</td>\n",
       "      <td>6.0</td>\n",
       "      <td>1950.0</td>\n",
       "      <td>268502.0</td>\n",
       "      <td>3217.06</td>\n",
       "    </tr>\n",
       "    <tr>\n",
       "      <th>10</th>\n",
       "      <td>17179760</td>\n",
       "      <td>-0.0131</td>\n",
       "      <td>2.0</td>\n",
       "      <td>4.0</td>\n",
       "      <td>1260.0</td>\n",
       "      <td>2.0</td>\n",
       "      <td>2.0</td>\n",
       "      <td>6.0</td>\n",
       "      <td>1969.0</td>\n",
       "      <td>61453.0</td>\n",
       "      <td>702.40</td>\n",
       "    </tr>\n",
       "    <tr>\n",
       "      <th>11</th>\n",
       "      <td>17198685</td>\n",
       "      <td>-0.0212</td>\n",
       "      <td>2.5</td>\n",
       "      <td>4.0</td>\n",
       "      <td>2735.0</td>\n",
       "      <td>2.0</td>\n",
       "      <td>2.0</td>\n",
       "      <td>8.0</td>\n",
       "      <td>1984.0</td>\n",
       "      <td>399742.0</td>\n",
       "      <td>4595.36</td>\n",
       "    </tr>\n",
       "    <tr>\n",
       "      <th>12</th>\n",
       "      <td>17212207</td>\n",
       "      <td>0.0834</td>\n",
       "      <td>2.0</td>\n",
       "      <td>5.0</td>\n",
       "      <td>2085.0</td>\n",
       "      <td>2.0</td>\n",
       "      <td>2.0</td>\n",
       "      <td>9.0</td>\n",
       "      <td>1962.0</td>\n",
       "      <td>657000.0</td>\n",
       "      <td>6991.06</td>\n",
       "    </tr>\n",
       "    <tr>\n",
       "      <th>13</th>\n",
       "      <td>17213421</td>\n",
       "      <td>-0.0294</td>\n",
       "      <td>3.0</td>\n",
       "      <td>3.0</td>\n",
       "      <td>1508.0</td>\n",
       "      <td>3.0</td>\n",
       "      <td>2.0</td>\n",
       "      <td>6.0</td>\n",
       "      <td>1981.0</td>\n",
       "      <td>407991.0</td>\n",
       "      <td>4267.96</td>\n",
       "    </tr>\n",
       "    <tr>\n",
       "      <th>14</th>\n",
       "      <td>17250387</td>\n",
       "      <td>0.0090</td>\n",
       "      <td>2.5</td>\n",
       "      <td>5.0</td>\n",
       "      <td>1958.0</td>\n",
       "      <td>2.0</td>\n",
       "      <td>2.0</td>\n",
       "      <td>7.0</td>\n",
       "      <td>1964.0</td>\n",
       "      <td>201400.0</td>\n",
       "      <td>2512.42</td>\n",
       "    </tr>\n",
       "    <tr>\n",
       "      <th>15</th>\n",
       "      <td>17254534</td>\n",
       "      <td>0.0573</td>\n",
       "      <td>2.0</td>\n",
       "      <td>4.0</td>\n",
       "      <td>1687.0</td>\n",
       "      <td>2.0</td>\n",
       "      <td>2.0</td>\n",
       "      <td>7.0</td>\n",
       "      <td>1961.0</td>\n",
       "      <td>311415.0</td>\n",
       "      <td>3763.38</td>\n",
       "    </tr>\n",
       "    <tr>\n",
       "      <th>16</th>\n",
       "      <td>17260270</td>\n",
       "      <td>-0.0151</td>\n",
       "      <td>2.5</td>\n",
       "      <td>5.0</td>\n",
       "      <td>2232.0</td>\n",
       "      <td>2.0</td>\n",
       "      <td>2.0</td>\n",
       "      <td>9.0</td>\n",
       "      <td>1965.0</td>\n",
       "      <td>451900.0</td>\n",
       "      <td>5185.66</td>\n",
       "    </tr>\n",
       "    <tr>\n",
       "      <th>17</th>\n",
       "      <td>17261131</td>\n",
       "      <td>0.0843</td>\n",
       "      <td>1.0</td>\n",
       "      <td>2.0</td>\n",
       "      <td>834.0</td>\n",
       "      <td>1.0</td>\n",
       "      <td>1.0</td>\n",
       "      <td>4.0</td>\n",
       "      <td>1976.0</td>\n",
       "      <td>158096.0</td>\n",
       "      <td>1991.34</td>\n",
       "    </tr>\n",
       "    <tr>\n",
       "      <th>18</th>\n",
       "      <td>17275640</td>\n",
       "      <td>0.0060</td>\n",
       "      <td>2.5</td>\n",
       "      <td>2.0</td>\n",
       "      <td>1361.0</td>\n",
       "      <td>2.0</td>\n",
       "      <td>2.0</td>\n",
       "      <td>5.0</td>\n",
       "      <td>1980.0</td>\n",
       "      <td>300726.0</td>\n",
       "      <td>3216.88</td>\n",
       "    </tr>\n",
       "    <tr>\n",
       "      <th>19</th>\n",
       "      <td>17275763</td>\n",
       "      <td>0.0188</td>\n",
       "      <td>2.0</td>\n",
       "      <td>2.0</td>\n",
       "      <td>917.0</td>\n",
       "      <td>2.0</td>\n",
       "      <td>2.0</td>\n",
       "      <td>4.0</td>\n",
       "      <td>1985.0</td>\n",
       "      <td>256000.0</td>\n",
       "      <td>2674.64</td>\n",
       "    </tr>\n",
       "    <tr>\n",
       "      <th>20</th>\n",
       "      <td>17276736</td>\n",
       "      <td>-0.0408</td>\n",
       "      <td>1.0</td>\n",
       "      <td>2.0</td>\n",
       "      <td>907.0</td>\n",
       "      <td>1.0</td>\n",
       "      <td>1.0</td>\n",
       "      <td>4.0</td>\n",
       "      <td>1985.0</td>\n",
       "      <td>204919.0</td>\n",
       "      <td>2212.54</td>\n",
       "    </tr>\n",
       "    <tr>\n",
       "      <th>21</th>\n",
       "      <td>17283162</td>\n",
       "      <td>0.0611</td>\n",
       "      <td>3.0</td>\n",
       "      <td>5.0</td>\n",
       "      <td>2524.0</td>\n",
       "      <td>3.0</td>\n",
       "      <td>2.0</td>\n",
       "      <td>9.0</td>\n",
       "      <td>1963.0</td>\n",
       "      <td>706979.0</td>\n",
       "      <td>7428.58</td>\n",
       "    </tr>\n",
       "    <tr>\n",
       "      <th>22</th>\n",
       "      <td>17283891</td>\n",
       "      <td>-0.0020</td>\n",
       "      <td>2.5</td>\n",
       "      <td>4.0</td>\n",
       "      <td>2400.0</td>\n",
       "      <td>2.0</td>\n",
       "      <td>3.0</td>\n",
       "      <td>7.0</td>\n",
       "      <td>1969.0</td>\n",
       "      <td>544564.0</td>\n",
       "      <td>5744.52</td>\n",
       "    </tr>\n",
       "    <tr>\n",
       "      <th>23</th>\n",
       "      <td>17290104</td>\n",
       "      <td>-0.1154</td>\n",
       "      <td>2.5</td>\n",
       "      <td>3.0</td>\n",
       "      <td>2113.0</td>\n",
       "      <td>2.0</td>\n",
       "      <td>2.0</td>\n",
       "      <td>7.0</td>\n",
       "      <td>1993.0</td>\n",
       "      <td>626875.0</td>\n",
       "      <td>7249.80</td>\n",
       "    </tr>\n",
       "    <tr>\n",
       "      <th>24</th>\n",
       "      <td>17291231</td>\n",
       "      <td>-0.2510</td>\n",
       "      <td>2.0</td>\n",
       "      <td>3.0</td>\n",
       "      <td>2297.0</td>\n",
       "      <td>2.0</td>\n",
       "      <td>2.0</td>\n",
       "      <td>7.0</td>\n",
       "      <td>1988.0</td>\n",
       "      <td>926000.0</td>\n",
       "      <td>9867.14</td>\n",
       "    </tr>\n",
       "    <tr>\n",
       "      <th>25</th>\n",
       "      <td>17296734</td>\n",
       "      <td>-0.0111</td>\n",
       "      <td>3.0</td>\n",
       "      <td>5.0</td>\n",
       "      <td>1996.0</td>\n",
       "      <td>3.0</td>\n",
       "      <td>2.0</td>\n",
       "      <td>7.0</td>\n",
       "      <td>1970.0</td>\n",
       "      <td>662986.0</td>\n",
       "      <td>8644.28</td>\n",
       "    </tr>\n",
       "    <tr>\n",
       "      <th>26</th>\n",
       "      <td>10726315</td>\n",
       "      <td>0.0383</td>\n",
       "      <td>3.0</td>\n",
       "      <td>3.0</td>\n",
       "      <td>2445.0</td>\n",
       "      <td>3.0</td>\n",
       "      <td>NaN</td>\n",
       "      <td>0.0</td>\n",
       "      <td>1982.0</td>\n",
       "      <td>581388.0</td>\n",
       "      <td>7170.22</td>\n",
       "    </tr>\n",
       "    <tr>\n",
       "      <th>27</th>\n",
       "      <td>10727091</td>\n",
       "      <td>0.0030</td>\n",
       "      <td>2.0</td>\n",
       "      <td>3.0</td>\n",
       "      <td>1160.0</td>\n",
       "      <td>2.0</td>\n",
       "      <td>NaN</td>\n",
       "      <td>0.0</td>\n",
       "      <td>1960.0</td>\n",
       "      <td>437584.0</td>\n",
       "      <td>5421.96</td>\n",
       "    </tr>\n",
       "    <tr>\n",
       "      <th>28</th>\n",
       "      <td>10730788</td>\n",
       "      <td>-0.0020</td>\n",
       "      <td>2.0</td>\n",
       "      <td>4.0</td>\n",
       "      <td>1570.0</td>\n",
       "      <td>2.0</td>\n",
       "      <td>NaN</td>\n",
       "      <td>0.0</td>\n",
       "      <td>1959.0</td>\n",
       "      <td>397138.0</td>\n",
       "      <td>5097.78</td>\n",
       "    </tr>\n",
       "    <tr>\n",
       "      <th>29</th>\n",
       "      <td>10735394</td>\n",
       "      <td>0.0129</td>\n",
       "      <td>3.0</td>\n",
       "      <td>4.0</td>\n",
       "      <td>2863.0</td>\n",
       "      <td>3.0</td>\n",
       "      <td>NaN</td>\n",
       "      <td>0.0</td>\n",
       "      <td>1963.0</td>\n",
       "      <td>593502.0</td>\n",
       "      <td>7475.21</td>\n",
       "    </tr>\n",
       "    <tr>\n",
       "      <th>...</th>\n",
       "      <td>...</td>\n",
       "      <td>...</td>\n",
       "      <td>...</td>\n",
       "      <td>...</td>\n",
       "      <td>...</td>\n",
       "      <td>...</td>\n",
       "      <td>...</td>\n",
       "      <td>...</td>\n",
       "      <td>...</td>\n",
       "      <td>...</td>\n",
       "      <td>...</td>\n",
       "    </tr>\n",
       "    <tr>\n",
       "      <th>90245</th>\n",
       "      <td>11348706</td>\n",
       "      <td>0.1587</td>\n",
       "      <td>4.0</td>\n",
       "      <td>4.0</td>\n",
       "      <td>3568.0</td>\n",
       "      <td>4.0</td>\n",
       "      <td>NaN</td>\n",
       "      <td>0.0</td>\n",
       "      <td>2004.0</td>\n",
       "      <td>836600.0</td>\n",
       "      <td>12204.90</td>\n",
       "    </tr>\n",
       "    <tr>\n",
       "      <th>90246</th>\n",
       "      <td>11607868</td>\n",
       "      <td>0.0459</td>\n",
       "      <td>3.0</td>\n",
       "      <td>2.0</td>\n",
       "      <td>1656.0</td>\n",
       "      <td>3.0</td>\n",
       "      <td>NaN</td>\n",
       "      <td>0.0</td>\n",
       "      <td>2003.0</td>\n",
       "      <td>752472.0</td>\n",
       "      <td>9145.99</td>\n",
       "    </tr>\n",
       "    <tr>\n",
       "      <th>90247</th>\n",
       "      <td>10944382</td>\n",
       "      <td>0.0060</td>\n",
       "      <td>2.0</td>\n",
       "      <td>1.0</td>\n",
       "      <td>1450.0</td>\n",
       "      <td>2.0</td>\n",
       "      <td>NaN</td>\n",
       "      <td>0.0</td>\n",
       "      <td>2005.0</td>\n",
       "      <td>389351.0</td>\n",
       "      <td>4406.77</td>\n",
       "    </tr>\n",
       "    <tr>\n",
       "      <th>90248</th>\n",
       "      <td>11793964</td>\n",
       "      <td>0.0620</td>\n",
       "      <td>2.0</td>\n",
       "      <td>2.0</td>\n",
       "      <td>1240.0</td>\n",
       "      <td>2.0</td>\n",
       "      <td>NaN</td>\n",
       "      <td>0.0</td>\n",
       "      <td>2006.0</td>\n",
       "      <td>503000.0</td>\n",
       "      <td>6107.51</td>\n",
       "    </tr>\n",
       "    <tr>\n",
       "      <th>90249</th>\n",
       "      <td>13863024</td>\n",
       "      <td>0.0871</td>\n",
       "      <td>3.5</td>\n",
       "      <td>3.0</td>\n",
       "      <td>2972.0</td>\n",
       "      <td>3.0</td>\n",
       "      <td>2.0</td>\n",
       "      <td>0.0</td>\n",
       "      <td>2005.0</td>\n",
       "      <td>1306000.0</td>\n",
       "      <td>14773.94</td>\n",
       "    </tr>\n",
       "    <tr>\n",
       "      <th>90250</th>\n",
       "      <td>14700275</td>\n",
       "      <td>-0.0070</td>\n",
       "      <td>2.0</td>\n",
       "      <td>3.0</td>\n",
       "      <td>1456.0</td>\n",
       "      <td>2.0</td>\n",
       "      <td>1.0</td>\n",
       "      <td>0.0</td>\n",
       "      <td>1988.0</td>\n",
       "      <td>332997.0</td>\n",
       "      <td>4367.26</td>\n",
       "    </tr>\n",
       "    <tr>\n",
       "      <th>90251</th>\n",
       "      <td>14700375</td>\n",
       "      <td>-0.0171</td>\n",
       "      <td>2.0</td>\n",
       "      <td>2.0</td>\n",
       "      <td>1252.0</td>\n",
       "      <td>2.0</td>\n",
       "      <td>1.0</td>\n",
       "      <td>0.0</td>\n",
       "      <td>1988.0</td>\n",
       "      <td>351000.0</td>\n",
       "      <td>4565.96</td>\n",
       "    </tr>\n",
       "    <tr>\n",
       "      <th>90252</th>\n",
       "      <td>14748051</td>\n",
       "      <td>-0.0387</td>\n",
       "      <td>2.5</td>\n",
       "      <td>1.0</td>\n",
       "      <td>1680.0</td>\n",
       "      <td>2.0</td>\n",
       "      <td>2.0</td>\n",
       "      <td>0.0</td>\n",
       "      <td>2004.0</td>\n",
       "      <td>535000.0</td>\n",
       "      <td>6315.96</td>\n",
       "    </tr>\n",
       "    <tr>\n",
       "      <th>90253</th>\n",
       "      <td>17153910</td>\n",
       "      <td>1.4380</td>\n",
       "      <td>3.0</td>\n",
       "      <td>4.0</td>\n",
       "      <td>3096.0</td>\n",
       "      <td>3.0</td>\n",
       "      <td>2.0</td>\n",
       "      <td>7.0</td>\n",
       "      <td>2006.0</td>\n",
       "      <td>803000.0</td>\n",
       "      <td>15003.80</td>\n",
       "    </tr>\n",
       "    <tr>\n",
       "      <th>90254</th>\n",
       "      <td>11485157</td>\n",
       "      <td>-0.0998</td>\n",
       "      <td>3.0</td>\n",
       "      <td>2.0</td>\n",
       "      <td>1110.0</td>\n",
       "      <td>3.0</td>\n",
       "      <td>NaN</td>\n",
       "      <td>0.0</td>\n",
       "      <td>2006.0</td>\n",
       "      <td>518000.0</td>\n",
       "      <td>7890.69</td>\n",
       "    </tr>\n",
       "    <tr>\n",
       "      <th>90255</th>\n",
       "      <td>14602791</td>\n",
       "      <td>0.0926</td>\n",
       "      <td>1.0</td>\n",
       "      <td>1.0</td>\n",
       "      <td>728.0</td>\n",
       "      <td>1.0</td>\n",
       "      <td>NaN</td>\n",
       "      <td>0.0</td>\n",
       "      <td>2005.0</td>\n",
       "      <td>223397.0</td>\n",
       "      <td>3859.80</td>\n",
       "    </tr>\n",
       "    <tr>\n",
       "      <th>90256</th>\n",
       "      <td>13853998</td>\n",
       "      <td>0.0000</td>\n",
       "      <td>4.0</td>\n",
       "      <td>5.0</td>\n",
       "      <td>3308.0</td>\n",
       "      <td>4.0</td>\n",
       "      <td>2.0</td>\n",
       "      <td>0.0</td>\n",
       "      <td>2007.0</td>\n",
       "      <td>802944.0</td>\n",
       "      <td>9079.58</td>\n",
       "    </tr>\n",
       "    <tr>\n",
       "      <th>90257</th>\n",
       "      <td>11780879</td>\n",
       "      <td>-0.4125</td>\n",
       "      <td>2.0</td>\n",
       "      <td>2.0</td>\n",
       "      <td>1440.0</td>\n",
       "      <td>2.0</td>\n",
       "      <td>NaN</td>\n",
       "      <td>0.0</td>\n",
       "      <td>2007.0</td>\n",
       "      <td>1019979.0</td>\n",
       "      <td>12915.44</td>\n",
       "    </tr>\n",
       "    <tr>\n",
       "      <th>90258</th>\n",
       "      <td>11483546</td>\n",
       "      <td>0.0573</td>\n",
       "      <td>2.0</td>\n",
       "      <td>2.0</td>\n",
       "      <td>1550.0</td>\n",
       "      <td>2.0</td>\n",
       "      <td>NaN</td>\n",
       "      <td>0.0</td>\n",
       "      <td>2013.0</td>\n",
       "      <td>645136.0</td>\n",
       "      <td>9785.82</td>\n",
       "    </tr>\n",
       "    <tr>\n",
       "      <th>90259</th>\n",
       "      <td>11780710</td>\n",
       "      <td>0.0667</td>\n",
       "      <td>1.0</td>\n",
       "      <td>1.0</td>\n",
       "      <td>860.0</td>\n",
       "      <td>1.0</td>\n",
       "      <td>NaN</td>\n",
       "      <td>0.0</td>\n",
       "      <td>2007.0</td>\n",
       "      <td>571000.0</td>\n",
       "      <td>7247.35</td>\n",
       "    </tr>\n",
       "    <tr>\n",
       "      <th>90260</th>\n",
       "      <td>11125730</td>\n",
       "      <td>0.1939</td>\n",
       "      <td>3.0</td>\n",
       "      <td>4.0</td>\n",
       "      <td>2781.0</td>\n",
       "      <td>3.0</td>\n",
       "      <td>NaN</td>\n",
       "      <td>0.0</td>\n",
       "      <td>2006.0</td>\n",
       "      <td>339656.0</td>\n",
       "      <td>10735.74</td>\n",
       "    </tr>\n",
       "    <tr>\n",
       "      <th>90261</th>\n",
       "      <td>11907577</td>\n",
       "      <td>-0.0856</td>\n",
       "      <td>3.0</td>\n",
       "      <td>3.0</td>\n",
       "      <td>1432.0</td>\n",
       "      <td>3.0</td>\n",
       "      <td>NaN</td>\n",
       "      <td>0.0</td>\n",
       "      <td>2005.0</td>\n",
       "      <td>509989.0</td>\n",
       "      <td>6119.54</td>\n",
       "    </tr>\n",
       "    <tr>\n",
       "      <th>90262</th>\n",
       "      <td>12011124</td>\n",
       "      <td>-0.1590</td>\n",
       "      <td>2.0</td>\n",
       "      <td>0.0</td>\n",
       "      <td>2140.0</td>\n",
       "      <td>2.0</td>\n",
       "      <td>NaN</td>\n",
       "      <td>0.0</td>\n",
       "      <td>1928.0</td>\n",
       "      <td>338004.0</td>\n",
       "      <td>4406.28</td>\n",
       "    </tr>\n",
       "    <tr>\n",
       "      <th>90263</th>\n",
       "      <td>11812411</td>\n",
       "      <td>0.0305</td>\n",
       "      <td>3.0</td>\n",
       "      <td>2.0</td>\n",
       "      <td>1060.0</td>\n",
       "      <td>3.0</td>\n",
       "      <td>NaN</td>\n",
       "      <td>0.0</td>\n",
       "      <td>2008.0</td>\n",
       "      <td>297946.0</td>\n",
       "      <td>3694.31</td>\n",
       "    </tr>\n",
       "    <tr>\n",
       "      <th>90264</th>\n",
       "      <td>12111197</td>\n",
       "      <td>-0.0555</td>\n",
       "      <td>1.0</td>\n",
       "      <td>1.0</td>\n",
       "      <td>918.0</td>\n",
       "      <td>1.0</td>\n",
       "      <td>NaN</td>\n",
       "      <td>0.0</td>\n",
       "      <td>2004.0</td>\n",
       "      <td>419839.0</td>\n",
       "      <td>5181.65</td>\n",
       "    </tr>\n",
       "    <tr>\n",
       "      <th>90265</th>\n",
       "      <td>11538534</td>\n",
       "      <td>-0.0346</td>\n",
       "      <td>2.0</td>\n",
       "      <td>2.0</td>\n",
       "      <td>1492.0</td>\n",
       "      <td>2.0</td>\n",
       "      <td>NaN</td>\n",
       "      <td>0.0</td>\n",
       "      <td>2006.0</td>\n",
       "      <td>710668.0</td>\n",
       "      <td>8814.80</td>\n",
       "    </tr>\n",
       "    <tr>\n",
       "      <th>90266</th>\n",
       "      <td>17095942</td>\n",
       "      <td>0.1151</td>\n",
       "      <td>3.0</td>\n",
       "      <td>4.0</td>\n",
       "      <td>1771.0</td>\n",
       "      <td>3.0</td>\n",
       "      <td>2.0</td>\n",
       "      <td>7.0</td>\n",
       "      <td>2007.0</td>\n",
       "      <td>348580.0</td>\n",
       "      <td>3740.30</td>\n",
       "    </tr>\n",
       "    <tr>\n",
       "      <th>90267</th>\n",
       "      <td>14722093</td>\n",
       "      <td>0.0469</td>\n",
       "      <td>2.5</td>\n",
       "      <td>2.0</td>\n",
       "      <td>1638.0</td>\n",
       "      <td>2.0</td>\n",
       "      <td>2.0</td>\n",
       "      <td>0.0</td>\n",
       "      <td>2007.0</td>\n",
       "      <td>522229.0</td>\n",
       "      <td>5259.36</td>\n",
       "    </tr>\n",
       "    <tr>\n",
       "      <th>90268</th>\n",
       "      <td>14722150</td>\n",
       "      <td>0.0315</td>\n",
       "      <td>2.0</td>\n",
       "      <td>2.0</td>\n",
       "      <td>1308.0</td>\n",
       "      <td>2.0</td>\n",
       "      <td>1.0</td>\n",
       "      <td>0.0</td>\n",
       "      <td>2007.0</td>\n",
       "      <td>490808.0</td>\n",
       "      <td>5005.48</td>\n",
       "    </tr>\n",
       "    <tr>\n",
       "      <th>90269</th>\n",
       "      <td>14600359</td>\n",
       "      <td>0.0871</td>\n",
       "      <td>3.0</td>\n",
       "      <td>4.0</td>\n",
       "      <td>1713.0</td>\n",
       "      <td>3.0</td>\n",
       "      <td>2.0</td>\n",
       "      <td>0.0</td>\n",
       "      <td>2007.0</td>\n",
       "      <td>433819.0</td>\n",
       "      <td>5179.82</td>\n",
       "    </tr>\n",
       "    <tr>\n",
       "      <th>90270</th>\n",
       "      <td>11876798</td>\n",
       "      <td>0.0276</td>\n",
       "      <td>3.0</td>\n",
       "      <td>4.0</td>\n",
       "      <td>2068.0</td>\n",
       "      <td>3.0</td>\n",
       "      <td>NaN</td>\n",
       "      <td>0.0</td>\n",
       "      <td>2008.0</td>\n",
       "      <td>596082.0</td>\n",
       "      <td>7335.81</td>\n",
       "    </tr>\n",
       "    <tr>\n",
       "      <th>90271</th>\n",
       "      <td>12808516</td>\n",
       "      <td>-0.1188</td>\n",
       "      <td>2.0</td>\n",
       "      <td>3.0</td>\n",
       "      <td>1352.0</td>\n",
       "      <td>2.0</td>\n",
       "      <td>NaN</td>\n",
       "      <td>0.0</td>\n",
       "      <td>1956.0</td>\n",
       "      <td>178408.0</td>\n",
       "      <td>2441.74</td>\n",
       "    </tr>\n",
       "    <tr>\n",
       "      <th>90272</th>\n",
       "      <td>12010248</td>\n",
       "      <td>0.0843</td>\n",
       "      <td>2.0</td>\n",
       "      <td>2.0</td>\n",
       "      <td>860.0</td>\n",
       "      <td>2.0</td>\n",
       "      <td>NaN</td>\n",
       "      <td>0.0</td>\n",
       "      <td>2011.0</td>\n",
       "      <td>420000.0</td>\n",
       "      <td>5070.41</td>\n",
       "    </tr>\n",
       "    <tr>\n",
       "      <th>90273</th>\n",
       "      <td>14310905</td>\n",
       "      <td>-0.0050</td>\n",
       "      <td>2.5</td>\n",
       "      <td>3.0</td>\n",
       "      <td>2268.0</td>\n",
       "      <td>2.0</td>\n",
       "      <td>2.0</td>\n",
       "      <td>0.0</td>\n",
       "      <td>2012.0</td>\n",
       "      <td>1215816.0</td>\n",
       "      <td>12508.30</td>\n",
       "    </tr>\n",
       "    <tr>\n",
       "      <th>90274</th>\n",
       "      <td>14636609</td>\n",
       "      <td>0.0129</td>\n",
       "      <td>2.5</td>\n",
       "      <td>3.0</td>\n",
       "      <td>1812.0</td>\n",
       "      <td>2.0</td>\n",
       "      <td>2.0</td>\n",
       "      <td>0.0</td>\n",
       "      <td>2013.0</td>\n",
       "      <td>471286.0</td>\n",
       "      <td>5470.12</td>\n",
       "    </tr>\n",
       "  </tbody>\n",
       "</table>\n",
       "<p>90150 rows × 11 columns</p>\n",
       "</div>"
      ],
      "text/plain": [
       "       parcelid  logerror  bathroomcnt  bedroomcnt  \\\n",
       "0      17073783    0.0953          2.5         3.0   \n",
       "1      17088994    0.0198          1.0         2.0   \n",
       "2      17100444    0.0060          2.0         3.0   \n",
       "3      17102429   -0.0566          1.5         2.0   \n",
       "4      17109604    0.0573          2.5         4.0   \n",
       "5      17125829    0.0564          2.5         4.0   \n",
       "6      17132911    0.0315          2.0         3.0   \n",
       "7      17134926    0.0257          2.5         5.0   \n",
       "8      17139988    0.0020          2.0         3.0   \n",
       "9      17167359   -0.0576          1.0         3.0   \n",
       "10     17179760   -0.0131          2.0         4.0   \n",
       "11     17198685   -0.0212          2.5         4.0   \n",
       "12     17212207    0.0834          2.0         5.0   \n",
       "13     17213421   -0.0294          3.0         3.0   \n",
       "14     17250387    0.0090          2.5         5.0   \n",
       "15     17254534    0.0573          2.0         4.0   \n",
       "16     17260270   -0.0151          2.5         5.0   \n",
       "17     17261131    0.0843          1.0         2.0   \n",
       "18     17275640    0.0060          2.5         2.0   \n",
       "19     17275763    0.0188          2.0         2.0   \n",
       "20     17276736   -0.0408          1.0         2.0   \n",
       "21     17283162    0.0611          3.0         5.0   \n",
       "22     17283891   -0.0020          2.5         4.0   \n",
       "23     17290104   -0.1154          2.5         3.0   \n",
       "24     17291231   -0.2510          2.0         3.0   \n",
       "25     17296734   -0.0111          3.0         5.0   \n",
       "26     10726315    0.0383          3.0         3.0   \n",
       "27     10727091    0.0030          2.0         3.0   \n",
       "28     10730788   -0.0020          2.0         4.0   \n",
       "29     10735394    0.0129          3.0         4.0   \n",
       "...         ...       ...          ...         ...   \n",
       "90245  11348706    0.1587          4.0         4.0   \n",
       "90246  11607868    0.0459          3.0         2.0   \n",
       "90247  10944382    0.0060          2.0         1.0   \n",
       "90248  11793964    0.0620          2.0         2.0   \n",
       "90249  13863024    0.0871          3.5         3.0   \n",
       "90250  14700275   -0.0070          2.0         3.0   \n",
       "90251  14700375   -0.0171          2.0         2.0   \n",
       "90252  14748051   -0.0387          2.5         1.0   \n",
       "90253  17153910    1.4380          3.0         4.0   \n",
       "90254  11485157   -0.0998          3.0         2.0   \n",
       "90255  14602791    0.0926          1.0         1.0   \n",
       "90256  13853998    0.0000          4.0         5.0   \n",
       "90257  11780879   -0.4125          2.0         2.0   \n",
       "90258  11483546    0.0573          2.0         2.0   \n",
       "90259  11780710    0.0667          1.0         1.0   \n",
       "90260  11125730    0.1939          3.0         4.0   \n",
       "90261  11907577   -0.0856          3.0         3.0   \n",
       "90262  12011124   -0.1590          2.0         0.0   \n",
       "90263  11812411    0.0305          3.0         2.0   \n",
       "90264  12111197   -0.0555          1.0         1.0   \n",
       "90265  11538534   -0.0346          2.0         2.0   \n",
       "90266  17095942    0.1151          3.0         4.0   \n",
       "90267  14722093    0.0469          2.5         2.0   \n",
       "90268  14722150    0.0315          2.0         2.0   \n",
       "90269  14600359    0.0871          3.0         4.0   \n",
       "90270  11876798    0.0276          3.0         4.0   \n",
       "90271  12808516   -0.1188          2.0         3.0   \n",
       "90272  12010248    0.0843          2.0         2.0   \n",
       "90273  14310905   -0.0050          2.5         3.0   \n",
       "90274  14636609    0.0129          2.5         3.0   \n",
       "\n",
       "       calculatedfinishedsquarefeet  fullbathcnt  garagecarcnt  roomcnt  \\\n",
       "0                            1264.0          2.0           2.0      5.0   \n",
       "1                             777.0          1.0           1.0      4.0   \n",
       "2                            1101.0          2.0           2.0      5.0   \n",
       "3                            1554.0          1.0           2.0      5.0   \n",
       "4                            2415.0          2.0           2.0      8.0   \n",
       "5                            2882.0          2.0           2.0      8.0   \n",
       "6                            1772.0          2.0           2.0      6.0   \n",
       "7                            2632.0          2.0           2.0      8.0   \n",
       "8                            1292.0          2.0           2.0      6.0   \n",
       "9                            1385.0          1.0           1.0      6.0   \n",
       "10                           1260.0          2.0           2.0      6.0   \n",
       "11                           2735.0          2.0           2.0      8.0   \n",
       "12                           2085.0          2.0           2.0      9.0   \n",
       "13                           1508.0          3.0           2.0      6.0   \n",
       "14                           1958.0          2.0           2.0      7.0   \n",
       "15                           1687.0          2.0           2.0      7.0   \n",
       "16                           2232.0          2.0           2.0      9.0   \n",
       "17                            834.0          1.0           1.0      4.0   \n",
       "18                           1361.0          2.0           2.0      5.0   \n",
       "19                            917.0          2.0           2.0      4.0   \n",
       "20                            907.0          1.0           1.0      4.0   \n",
       "21                           2524.0          3.0           2.0      9.0   \n",
       "22                           2400.0          2.0           3.0      7.0   \n",
       "23                           2113.0          2.0           2.0      7.0   \n",
       "24                           2297.0          2.0           2.0      7.0   \n",
       "25                           1996.0          3.0           2.0      7.0   \n",
       "26                           2445.0          3.0           NaN      0.0   \n",
       "27                           1160.0          2.0           NaN      0.0   \n",
       "28                           1570.0          2.0           NaN      0.0   \n",
       "29                           2863.0          3.0           NaN      0.0   \n",
       "...                             ...          ...           ...      ...   \n",
       "90245                        3568.0          4.0           NaN      0.0   \n",
       "90246                        1656.0          3.0           NaN      0.0   \n",
       "90247                        1450.0          2.0           NaN      0.0   \n",
       "90248                        1240.0          2.0           NaN      0.0   \n",
       "90249                        2972.0          3.0           2.0      0.0   \n",
       "90250                        1456.0          2.0           1.0      0.0   \n",
       "90251                        1252.0          2.0           1.0      0.0   \n",
       "90252                        1680.0          2.0           2.0      0.0   \n",
       "90253                        3096.0          3.0           2.0      7.0   \n",
       "90254                        1110.0          3.0           NaN      0.0   \n",
       "90255                         728.0          1.0           NaN      0.0   \n",
       "90256                        3308.0          4.0           2.0      0.0   \n",
       "90257                        1440.0          2.0           NaN      0.0   \n",
       "90258                        1550.0          2.0           NaN      0.0   \n",
       "90259                         860.0          1.0           NaN      0.0   \n",
       "90260                        2781.0          3.0           NaN      0.0   \n",
       "90261                        1432.0          3.0           NaN      0.0   \n",
       "90262                        2140.0          2.0           NaN      0.0   \n",
       "90263                        1060.0          3.0           NaN      0.0   \n",
       "90264                         918.0          1.0           NaN      0.0   \n",
       "90265                        1492.0          2.0           NaN      0.0   \n",
       "90266                        1771.0          3.0           2.0      7.0   \n",
       "90267                        1638.0          2.0           2.0      0.0   \n",
       "90268                        1308.0          2.0           1.0      0.0   \n",
       "90269                        1713.0          3.0           2.0      0.0   \n",
       "90270                        2068.0          3.0           NaN      0.0   \n",
       "90271                        1352.0          2.0           NaN      0.0   \n",
       "90272                         860.0          2.0           NaN      0.0   \n",
       "90273                        2268.0          2.0           2.0      0.0   \n",
       "90274                        1812.0          2.0           2.0      0.0   \n",
       "\n",
       "       yearbuilt  taxvaluedollarcnt  taxamount  \n",
       "0         1986.0           191811.0    2015.06  \n",
       "1         1990.0           239679.0    2581.30  \n",
       "2         1956.0            47853.0     591.64  \n",
       "3         1965.0            62914.0     682.78  \n",
       "4         1984.0           554000.0    5886.92  \n",
       "5         1980.0           289609.0    3110.44  \n",
       "6         1978.0           526000.0    5632.20  \n",
       "7         1971.0           571086.0    6109.94  \n",
       "8         1979.0           462594.0    5026.40  \n",
       "9         1950.0           268502.0    3217.06  \n",
       "10        1969.0            61453.0     702.40  \n",
       "11        1984.0           399742.0    4595.36  \n",
       "12        1962.0           657000.0    6991.06  \n",
       "13        1981.0           407991.0    4267.96  \n",
       "14        1964.0           201400.0    2512.42  \n",
       "15        1961.0           311415.0    3763.38  \n",
       "16        1965.0           451900.0    5185.66  \n",
       "17        1976.0           158096.0    1991.34  \n",
       "18        1980.0           300726.0    3216.88  \n",
       "19        1985.0           256000.0    2674.64  \n",
       "20        1985.0           204919.0    2212.54  \n",
       "21        1963.0           706979.0    7428.58  \n",
       "22        1969.0           544564.0    5744.52  \n",
       "23        1993.0           626875.0    7249.80  \n",
       "24        1988.0           926000.0    9867.14  \n",
       "25        1970.0           662986.0    8644.28  \n",
       "26        1982.0           581388.0    7170.22  \n",
       "27        1960.0           437584.0    5421.96  \n",
       "28        1959.0           397138.0    5097.78  \n",
       "29        1963.0           593502.0    7475.21  \n",
       "...          ...                ...        ...  \n",
       "90245     2004.0           836600.0   12204.90  \n",
       "90246     2003.0           752472.0    9145.99  \n",
       "90247     2005.0           389351.0    4406.77  \n",
       "90248     2006.0           503000.0    6107.51  \n",
       "90249     2005.0          1306000.0   14773.94  \n",
       "90250     1988.0           332997.0    4367.26  \n",
       "90251     1988.0           351000.0    4565.96  \n",
       "90252     2004.0           535000.0    6315.96  \n",
       "90253     2006.0           803000.0   15003.80  \n",
       "90254     2006.0           518000.0    7890.69  \n",
       "90255     2005.0           223397.0    3859.80  \n",
       "90256     2007.0           802944.0    9079.58  \n",
       "90257     2007.0          1019979.0   12915.44  \n",
       "90258     2013.0           645136.0    9785.82  \n",
       "90259     2007.0           571000.0    7247.35  \n",
       "90260     2006.0           339656.0   10735.74  \n",
       "90261     2005.0           509989.0    6119.54  \n",
       "90262     1928.0           338004.0    4406.28  \n",
       "90263     2008.0           297946.0    3694.31  \n",
       "90264     2004.0           419839.0    5181.65  \n",
       "90265     2006.0           710668.0    8814.80  \n",
       "90266     2007.0           348580.0    3740.30  \n",
       "90267     2007.0           522229.0    5259.36  \n",
       "90268     2007.0           490808.0    5005.48  \n",
       "90269     2007.0           433819.0    5179.82  \n",
       "90270     2008.0           596082.0    7335.81  \n",
       "90271     1956.0           178408.0    2441.74  \n",
       "90272     2011.0           420000.0    5070.41  \n",
       "90273     2012.0          1215816.0   12508.30  \n",
       "90274     2013.0           471286.0    5470.12  \n",
       "\n",
       "[90150 rows x 11 columns]"
      ]
     },
     "execution_count": 80,
     "metadata": {},
     "output_type": "execute_result"
    }
   ],
   "source": [
    "df2"
   ]
  },
  {
   "cell_type": "code",
   "execution_count": 81,
   "metadata": {},
   "outputs": [
    {
     "data": {
      "text/plain": [
       "parcelid                        1159\n",
       "logerror                        1159\n",
       "bathroomcnt                     1159\n",
       "bedroomcnt                      1159\n",
       "calculatedfinishedsquarefeet     510\n",
       "fullbathcnt                        0\n",
       "garagecarcnt                     218\n",
       "roomcnt                         1159\n",
       "yearbuilt                        492\n",
       "taxvaluedollarcnt               1159\n",
       "taxamount                       1159\n",
       "dtype: int64"
      ]
     },
     "execution_count": 81,
     "metadata": {},
     "output_type": "execute_result"
    }
   ],
   "source": [
    "df2[df2.bathroomcnt == 0].count()"
   ]
  },
  {
   "cell_type": "code",
   "execution_count": 82,
   "metadata": {},
   "outputs": [],
   "source": [
    "df2 = df2.drop(df2[df2.bathroomcnt == 0].index)"
   ]
  },
  {
   "cell_type": "code",
   "execution_count": 83,
   "metadata": {},
   "outputs": [
    {
     "data": {
      "text/html": [
       "<div>\n",
       "<style scoped>\n",
       "    .dataframe tbody tr th:only-of-type {\n",
       "        vertical-align: middle;\n",
       "    }\n",
       "\n",
       "    .dataframe tbody tr th {\n",
       "        vertical-align: top;\n",
       "    }\n",
       "\n",
       "    .dataframe thead th {\n",
       "        text-align: right;\n",
       "    }\n",
       "</style>\n",
       "<table border=\"1\" class=\"dataframe\">\n",
       "  <thead>\n",
       "    <tr style=\"text-align: right;\">\n",
       "      <th></th>\n",
       "      <th>parcelid</th>\n",
       "      <th>logerror</th>\n",
       "      <th>bathroomcnt</th>\n",
       "      <th>bedroomcnt</th>\n",
       "      <th>calculatedfinishedsquarefeet</th>\n",
       "      <th>fullbathcnt</th>\n",
       "      <th>garagecarcnt</th>\n",
       "      <th>roomcnt</th>\n",
       "      <th>yearbuilt</th>\n",
       "      <th>taxvaluedollarcnt</th>\n",
       "      <th>taxamount</th>\n",
       "    </tr>\n",
       "  </thead>\n",
       "  <tbody>\n",
       "    <tr>\n",
       "      <th>count</th>\n",
       "      <td>8.899100e+04</td>\n",
       "      <td>88991.000000</td>\n",
       "      <td>88991.000000</td>\n",
       "      <td>88991.000000</td>\n",
       "      <td>88982.000000</td>\n",
       "      <td>88974.000000</td>\n",
       "      <td>29679.000000</td>\n",
       "      <td>88991.000000</td>\n",
       "      <td>88905.000000</td>\n",
       "      <td>8.899000e+04</td>\n",
       "      <td>88985.000000</td>\n",
       "    </tr>\n",
       "    <tr>\n",
       "      <th>mean</th>\n",
       "      <td>1.297212e+07</td>\n",
       "      <td>0.011450</td>\n",
       "      <td>2.309234</td>\n",
       "      <td>3.070603</td>\n",
       "      <td>1768.921523</td>\n",
       "      <td>2.241172</td>\n",
       "      <td>1.823276</td>\n",
       "      <td>1.495927</td>\n",
       "      <td>1968.591722</td>\n",
       "      <td>4.576632e+05</td>\n",
       "      <td>5973.263868</td>\n",
       "    </tr>\n",
       "    <tr>\n",
       "      <th>std</th>\n",
       "      <td>2.507768e+06</td>\n",
       "      <td>0.158423</td>\n",
       "      <td>0.976144</td>\n",
       "      <td>1.111178</td>\n",
       "      <td>924.388110</td>\n",
       "      <td>0.963106</td>\n",
       "      <td>0.592598</td>\n",
       "      <td>2.831608</td>\n",
       "      <td>23.766790</td>\n",
       "      <td>5.537837e+05</td>\n",
       "      <td>6807.681721</td>\n",
       "    </tr>\n",
       "    <tr>\n",
       "      <th>min</th>\n",
       "      <td>1.071174e+07</td>\n",
       "      <td>-4.605000</td>\n",
       "      <td>1.000000</td>\n",
       "      <td>0.000000</td>\n",
       "      <td>2.000000</td>\n",
       "      <td>1.000000</td>\n",
       "      <td>0.000000</td>\n",
       "      <td>0.000000</td>\n",
       "      <td>1885.000000</td>\n",
       "      <td>2.200000e+01</td>\n",
       "      <td>49.080000</td>\n",
       "    </tr>\n",
       "    <tr>\n",
       "      <th>25%</th>\n",
       "      <td>1.155593e+07</td>\n",
       "      <td>-0.025300</td>\n",
       "      <td>2.000000</td>\n",
       "      <td>2.000000</td>\n",
       "      <td>1182.000000</td>\n",
       "      <td>2.000000</td>\n",
       "      <td>2.000000</td>\n",
       "      <td>0.000000</td>\n",
       "      <td>1953.000000</td>\n",
       "      <td>2.003985e+05</td>\n",
       "      <td>2881.190000</td>\n",
       "    </tr>\n",
       "    <tr>\n",
       "      <th>50%</th>\n",
       "      <td>1.254235e+07</td>\n",
       "      <td>0.006000</td>\n",
       "      <td>2.000000</td>\n",
       "      <td>3.000000</td>\n",
       "      <td>1538.000000</td>\n",
       "      <td>2.000000</td>\n",
       "      <td>2.000000</td>\n",
       "      <td>0.000000</td>\n",
       "      <td>1970.000000</td>\n",
       "      <td>3.435255e+05</td>\n",
       "      <td>4544.600000</td>\n",
       "    </tr>\n",
       "    <tr>\n",
       "      <th>75%</th>\n",
       "      <td>1.421961e+07</td>\n",
       "      <td>0.038300</td>\n",
       "      <td>3.000000</td>\n",
       "      <td>4.000000</td>\n",
       "      <td>2089.750000</td>\n",
       "      <td>3.000000</td>\n",
       "      <td>2.000000</td>\n",
       "      <td>0.000000</td>\n",
       "      <td>1987.000000</td>\n",
       "      <td>5.405890e+05</td>\n",
       "      <td>6892.940000</td>\n",
       "    </tr>\n",
       "    <tr>\n",
       "      <th>max</th>\n",
       "      <td>1.629608e+08</td>\n",
       "      <td>4.737000</td>\n",
       "      <td>20.000000</td>\n",
       "      <td>16.000000</td>\n",
       "      <td>22741.000000</td>\n",
       "      <td>20.000000</td>\n",
       "      <td>24.000000</td>\n",
       "      <td>18.000000</td>\n",
       "      <td>2015.000000</td>\n",
       "      <td>2.775000e+07</td>\n",
       "      <td>321936.090000</td>\n",
       "    </tr>\n",
       "  </tbody>\n",
       "</table>\n",
       "</div>"
      ],
      "text/plain": [
       "           parcelid      logerror   bathroomcnt    bedroomcnt  \\\n",
       "count  8.899100e+04  88991.000000  88991.000000  88991.000000   \n",
       "mean   1.297212e+07      0.011450      2.309234      3.070603   \n",
       "std    2.507768e+06      0.158423      0.976144      1.111178   \n",
       "min    1.071174e+07     -4.605000      1.000000      0.000000   \n",
       "25%    1.155593e+07     -0.025300      2.000000      2.000000   \n",
       "50%    1.254235e+07      0.006000      2.000000      3.000000   \n",
       "75%    1.421961e+07      0.038300      3.000000      4.000000   \n",
       "max    1.629608e+08      4.737000     20.000000     16.000000   \n",
       "\n",
       "       calculatedfinishedsquarefeet   fullbathcnt  garagecarcnt       roomcnt  \\\n",
       "count                  88982.000000  88974.000000  29679.000000  88991.000000   \n",
       "mean                    1768.921523      2.241172      1.823276      1.495927   \n",
       "std                      924.388110      0.963106      0.592598      2.831608   \n",
       "min                        2.000000      1.000000      0.000000      0.000000   \n",
       "25%                     1182.000000      2.000000      2.000000      0.000000   \n",
       "50%                     1538.000000      2.000000      2.000000      0.000000   \n",
       "75%                     2089.750000      3.000000      2.000000      0.000000   \n",
       "max                    22741.000000     20.000000     24.000000     18.000000   \n",
       "\n",
       "          yearbuilt  taxvaluedollarcnt      taxamount  \n",
       "count  88905.000000       8.899000e+04   88985.000000  \n",
       "mean    1968.591722       4.576632e+05    5973.263868  \n",
       "std       23.766790       5.537837e+05    6807.681721  \n",
       "min     1885.000000       2.200000e+01      49.080000  \n",
       "25%     1953.000000       2.003985e+05    2881.190000  \n",
       "50%     1970.000000       3.435255e+05    4544.600000  \n",
       "75%     1987.000000       5.405890e+05    6892.940000  \n",
       "max     2015.000000       2.775000e+07  321936.090000  "
      ]
     },
     "execution_count": 83,
     "metadata": {},
     "output_type": "execute_result"
    }
   ],
   "source": [
    "df2.describe()"
   ]
  },
  {
   "cell_type": "markdown",
   "metadata": {},
   "source": [
    "#### Create a variable, `colnames`, that is a list of the column names. "
   ]
  },
  {
   "cell_type": "code",
   "execution_count": 84,
   "metadata": {},
   "outputs": [
    {
     "data": {
      "text/plain": [
       "['parcelid',\n",
       " 'logerror',\n",
       " 'bathroomcnt',\n",
       " 'bedroomcnt',\n",
       " 'calculatedfinishedsquarefeet',\n",
       " 'fullbathcnt',\n",
       " 'garagecarcnt',\n",
       " 'roomcnt',\n",
       " 'yearbuilt',\n",
       " 'taxvaluedollarcnt',\n",
       " 'taxamount']"
      ]
     },
     "execution_count": 84,
     "metadata": {},
     "output_type": "execute_result"
    }
   ],
   "source": [
    "colnames= ['parcelid', 'logerror', 'bathroomcnt', 'bedroomcnt', 'calculatedfinishedsquarefeet', 'fullbathcnt', 'garagecarcnt', 'roomcnt', 'yearbuilt', 'taxvaluedollarcnt', 'taxamount']\n",
    "colnames"
   ]
  },
  {
   "cell_type": "markdown",
   "metadata": {},
   "source": [
    "#### independent variable names (aka attributes) "
   ]
  },
  {
   "cell_type": "code",
   "execution_count": 85,
   "metadata": {},
   "outputs": [],
   "source": [
    "x_vars = ['bathroomcnt', 'bedroomcnt', 'calculatedfinishedsquarefeet', 'fullbathcnt', 'garagecarcnt', 'roomcnt', 'yearbuilt', 'taxvaluedollarcnt', 'taxamount']\n"
   ]
  },
  {
   "cell_type": "markdown",
   "metadata": {},
   "source": [
    "#### dependent (target) variable. "
   ]
  },
  {
   "cell_type": "markdown",
   "metadata": {},
   "source": [
    "dependent variable: 'logerror', continuous"
   ]
  },
  {
   "cell_type": "markdown",
   "metadata": {},
   "source": [
    "#### View the distribution of the numeric variables"
   ]
  },
  {
   "cell_type": "code",
   "execution_count": 86,
   "metadata": {},
   "outputs": [
    {
     "data": {
      "image/png": "[encoded data removed]",
      "text/plain": [
       "<Figure size 1152x720 with 9 Axes>"
      ]
     },
     "metadata": {
      "needs_background": "light"
     },
     "output_type": "display_data"
    }
   ],
   "source": [
    "plt.figure(figsize=(16, 10))\n",
    "\n",
    "for i, col in enumerate(['bathroomcnt', 'bedroomcnt', 'calculatedfinishedsquarefeet', 'fullbathcnt', 'garagecarcnt', 'roomcnt', 'yearbuilt', 'taxvaluedollarcnt', 'taxamount']):\n",
    "    plot_number = i + 1 \n",
    "    series = df[col]\n",
    "    plt.subplot(3, 3, plot_number)\n",
    "    plt.title(col)\n",
    "    series.hist(bins=20, density=False, cumulative=False, log=False)"
   ]
  },
  {
   "cell_type": "code",
   "execution_count": 87,
   "metadata": {},
   "outputs": [
    {
     "data": {
      "image/png": "[encoded data removed]",
      "text/plain": [
       "<Figure size 1152x720 with 9 Axes>"
      ]
     },
     "metadata": {
      "needs_background": "light"
     },
     "output_type": "display_data"
    }
   ],
   "source": [
    "plt.figure(figsize=(16, 10))\n",
    "\n",
    "for i, col in enumerate(['bathroomcnt', 'bedroomcnt', 'calculatedfinishedsquarefeet', 'fullbathcnt', 'garagecarcnt', 'roomcnt', 'yearbuilt', 'taxvaluedollarcnt', 'taxamount']):\n",
    "    plot_number = i + 1\n",
    "    series = df[col]\n",
    "    plt.subplot(3, 3, plot_number)\n",
    "    plt.title(col)\n",
    "    sns.boxplot(data=series)\n",
    "    "
   ]
  },
  {
   "cell_type": "markdown",
   "metadata": {},
   "source": [
    "### Data Exploration\n",
    "\n",
    "Goal is to address each of the questions you posed in your planning & brainstorming through visual or statistical analysis.\n",
    "\n",
    "When you have completed this step, you will have the findings from your analysis that will be used in your final report, the answers to your questions and your customer's questions that will reach the goal. "
   ]
  },
  {
   "cell_type": "code",
   "execution_count": 88,
   "metadata": {},
   "outputs": [
    {
     "data": {
      "text/html": [
       "<div>\n",
       "<style scoped>\n",
       "    .dataframe tbody tr th:only-of-type {\n",
       "        vertical-align: middle;\n",
       "    }\n",
       "\n",
       "    .dataframe tbody tr th {\n",
       "        vertical-align: top;\n",
       "    }\n",
       "\n",
       "    .dataframe thead th {\n",
       "        text-align: right;\n",
       "    }\n",
       "</style>\n",
       "<table border=\"1\" class=\"dataframe\">\n",
       "  <thead>\n",
       "    <tr style=\"text-align: right;\">\n",
       "      <th></th>\n",
       "      <th>logerror</th>\n",
       "      <th>bathroomcnt</th>\n",
       "      <th>bedroomcnt</th>\n",
       "      <th>calculatedfinishedsquarefeet</th>\n",
       "      <th>yearbuilt</th>\n",
       "      <th>taxvaluedollarcnt</th>\n",
       "      <th>taxamount</th>\n",
       "      <th>rmcount</th>\n",
       "      <th>value_per_sq_ft</th>\n",
       "      <th>age_of_property</th>\n",
       "      <th>abs_logerror</th>\n",
       "    </tr>\n",
       "  </thead>\n",
       "  <tbody>\n",
       "    <tr>\n",
       "      <th>0</th>\n",
       "      <td>0.0953</td>\n",
       "      <td>2.5</td>\n",
       "      <td>3.0</td>\n",
       "      <td>1264.0</td>\n",
       "      <td>1986.0</td>\n",
       "      <td>191811.0</td>\n",
       "      <td>2015.06</td>\n",
       "      <td>5.5</td>\n",
       "      <td>151.749209</td>\n",
       "      <td>30.0</td>\n",
       "      <td>0.0953</td>\n",
       "    </tr>\n",
       "    <tr>\n",
       "      <th>1</th>\n",
       "      <td>0.0198</td>\n",
       "      <td>1.0</td>\n",
       "      <td>2.0</td>\n",
       "      <td>777.0</td>\n",
       "      <td>1990.0</td>\n",
       "      <td>239679.0</td>\n",
       "      <td>2581.30</td>\n",
       "      <td>3.0</td>\n",
       "      <td>308.467181</td>\n",
       "      <td>26.0</td>\n",
       "      <td>0.0198</td>\n",
       "    </tr>\n",
       "    <tr>\n",
       "      <th>2</th>\n",
       "      <td>0.0060</td>\n",
       "      <td>2.0</td>\n",
       "      <td>3.0</td>\n",
       "      <td>1101.0</td>\n",
       "      <td>1956.0</td>\n",
       "      <td>47853.0</td>\n",
       "      <td>591.64</td>\n",
       "      <td>5.0</td>\n",
       "      <td>43.463215</td>\n",
       "      <td>60.0</td>\n",
       "      <td>0.0060</td>\n",
       "    </tr>\n",
       "    <tr>\n",
       "      <th>3</th>\n",
       "      <td>-0.0566</td>\n",
       "      <td>1.5</td>\n",
       "      <td>2.0</td>\n",
       "      <td>1554.0</td>\n",
       "      <td>1965.0</td>\n",
       "      <td>62914.0</td>\n",
       "      <td>682.78</td>\n",
       "      <td>3.5</td>\n",
       "      <td>40.485199</td>\n",
       "      <td>51.0</td>\n",
       "      <td>0.0566</td>\n",
       "    </tr>\n",
       "    <tr>\n",
       "      <th>4</th>\n",
       "      <td>0.0573</td>\n",
       "      <td>2.5</td>\n",
       "      <td>4.0</td>\n",
       "      <td>2415.0</td>\n",
       "      <td>1984.0</td>\n",
       "      <td>554000.0</td>\n",
       "      <td>5886.92</td>\n",
       "      <td>6.5</td>\n",
       "      <td>229.399586</td>\n",
       "      <td>32.0</td>\n",
       "      <td>0.0573</td>\n",
       "    </tr>\n",
       "    <tr>\n",
       "      <th>5</th>\n",
       "      <td>0.0564</td>\n",
       "      <td>2.5</td>\n",
       "      <td>4.0</td>\n",
       "      <td>2882.0</td>\n",
       "      <td>1980.0</td>\n",
       "      <td>289609.0</td>\n",
       "      <td>3110.44</td>\n",
       "      <td>6.5</td>\n",
       "      <td>100.488897</td>\n",
       "      <td>36.0</td>\n",
       "      <td>0.0564</td>\n",
       "    </tr>\n",
       "    <tr>\n",
       "      <th>6</th>\n",
       "      <td>0.0315</td>\n",
       "      <td>2.0</td>\n",
       "      <td>3.0</td>\n",
       "      <td>1772.0</td>\n",
       "      <td>1978.0</td>\n",
       "      <td>526000.0</td>\n",
       "      <td>5632.20</td>\n",
       "      <td>5.0</td>\n",
       "      <td>296.839729</td>\n",
       "      <td>38.0</td>\n",
       "      <td>0.0315</td>\n",
       "    </tr>\n",
       "    <tr>\n",
       "      <th>7</th>\n",
       "      <td>0.0257</td>\n",
       "      <td>2.5</td>\n",
       "      <td>5.0</td>\n",
       "      <td>2632.0</td>\n",
       "      <td>1971.0</td>\n",
       "      <td>571086.0</td>\n",
       "      <td>6109.94</td>\n",
       "      <td>7.5</td>\n",
       "      <td>216.977964</td>\n",
       "      <td>45.0</td>\n",
       "      <td>0.0257</td>\n",
       "    </tr>\n",
       "    <tr>\n",
       "      <th>8</th>\n",
       "      <td>0.0020</td>\n",
       "      <td>2.0</td>\n",
       "      <td>3.0</td>\n",
       "      <td>1292.0</td>\n",
       "      <td>1979.0</td>\n",
       "      <td>462594.0</td>\n",
       "      <td>5026.40</td>\n",
       "      <td>5.0</td>\n",
       "      <td>358.044892</td>\n",
       "      <td>37.0</td>\n",
       "      <td>0.0020</td>\n",
       "    </tr>\n",
       "    <tr>\n",
       "      <th>9</th>\n",
       "      <td>-0.0576</td>\n",
       "      <td>1.0</td>\n",
       "      <td>3.0</td>\n",
       "      <td>1385.0</td>\n",
       "      <td>1950.0</td>\n",
       "      <td>268502.0</td>\n",
       "      <td>3217.06</td>\n",
       "      <td>4.0</td>\n",
       "      <td>193.864260</td>\n",
       "      <td>66.0</td>\n",
       "      <td>0.0576</td>\n",
       "    </tr>\n",
       "    <tr>\n",
       "      <th>10</th>\n",
       "      <td>-0.0131</td>\n",
       "      <td>2.0</td>\n",
       "      <td>4.0</td>\n",
       "      <td>1260.0</td>\n",
       "      <td>1969.0</td>\n",
       "      <td>61453.0</td>\n",
       "      <td>702.40</td>\n",
       "      <td>6.0</td>\n",
       "      <td>48.772222</td>\n",
       "      <td>47.0</td>\n",
       "      <td>0.0131</td>\n",
       "    </tr>\n",
       "    <tr>\n",
       "      <th>11</th>\n",
       "      <td>-0.0212</td>\n",
       "      <td>2.5</td>\n",
       "      <td>4.0</td>\n",
       "      <td>2735.0</td>\n",
       "      <td>1984.0</td>\n",
       "      <td>399742.0</td>\n",
       "      <td>4595.36</td>\n",
       "      <td>6.5</td>\n",
       "      <td>146.157952</td>\n",
       "      <td>32.0</td>\n",
       "      <td>0.0212</td>\n",
       "    </tr>\n",
       "    <tr>\n",
       "      <th>12</th>\n",
       "      <td>0.0834</td>\n",
       "      <td>2.0</td>\n",
       "      <td>5.0</td>\n",
       "      <td>2085.0</td>\n",
       "      <td>1962.0</td>\n",
       "      <td>657000.0</td>\n",
       "      <td>6991.06</td>\n",
       "      <td>7.0</td>\n",
       "      <td>315.107914</td>\n",
       "      <td>54.0</td>\n",
       "      <td>0.0834</td>\n",
       "    </tr>\n",
       "    <tr>\n",
       "      <th>13</th>\n",
       "      <td>-0.0294</td>\n",
       "      <td>3.0</td>\n",
       "      <td>3.0</td>\n",
       "      <td>1508.0</td>\n",
       "      <td>1981.0</td>\n",
       "      <td>407991.0</td>\n",
       "      <td>4267.96</td>\n",
       "      <td>6.0</td>\n",
       "      <td>270.551061</td>\n",
       "      <td>35.0</td>\n",
       "      <td>0.0294</td>\n",
       "    </tr>\n",
       "    <tr>\n",
       "      <th>14</th>\n",
       "      <td>0.0090</td>\n",
       "      <td>2.5</td>\n",
       "      <td>5.0</td>\n",
       "      <td>1958.0</td>\n",
       "      <td>1964.0</td>\n",
       "      <td>201400.0</td>\n",
       "      <td>2512.42</td>\n",
       "      <td>7.5</td>\n",
       "      <td>102.860061</td>\n",
       "      <td>52.0</td>\n",
       "      <td>0.0090</td>\n",
       "    </tr>\n",
       "    <tr>\n",
       "      <th>15</th>\n",
       "      <td>0.0573</td>\n",
       "      <td>2.0</td>\n",
       "      <td>4.0</td>\n",
       "      <td>1687.0</td>\n",
       "      <td>1961.0</td>\n",
       "      <td>311415.0</td>\n",
       "      <td>3763.38</td>\n",
       "      <td>6.0</td>\n",
       "      <td>184.596918</td>\n",
       "      <td>55.0</td>\n",
       "      <td>0.0573</td>\n",
       "    </tr>\n",
       "    <tr>\n",
       "      <th>16</th>\n",
       "      <td>-0.0151</td>\n",
       "      <td>2.5</td>\n",
       "      <td>5.0</td>\n",
       "      <td>2232.0</td>\n",
       "      <td>1965.0</td>\n",
       "      <td>451900.0</td>\n",
       "      <td>5185.66</td>\n",
       "      <td>7.5</td>\n",
       "      <td>202.464158</td>\n",
       "      <td>51.0</td>\n",
       "      <td>0.0151</td>\n",
       "    </tr>\n",
       "    <tr>\n",
       "      <th>17</th>\n",
       "      <td>0.0843</td>\n",
       "      <td>1.0</td>\n",
       "      <td>2.0</td>\n",
       "      <td>834.0</td>\n",
       "      <td>1976.0</td>\n",
       "      <td>158096.0</td>\n",
       "      <td>1991.34</td>\n",
       "      <td>3.0</td>\n",
       "      <td>189.563549</td>\n",
       "      <td>40.0</td>\n",
       "      <td>0.0843</td>\n",
       "    </tr>\n",
       "    <tr>\n",
       "      <th>18</th>\n",
       "      <td>0.0060</td>\n",
       "      <td>2.5</td>\n",
       "      <td>2.0</td>\n",
       "      <td>1361.0</td>\n",
       "      <td>1980.0</td>\n",
       "      <td>300726.0</td>\n",
       "      <td>3216.88</td>\n",
       "      <td>4.5</td>\n",
       "      <td>220.959589</td>\n",
       "      <td>36.0</td>\n",
       "      <td>0.0060</td>\n",
       "    </tr>\n",
       "    <tr>\n",
       "      <th>19</th>\n",
       "      <td>0.0188</td>\n",
       "      <td>2.0</td>\n",
       "      <td>2.0</td>\n",
       "      <td>917.0</td>\n",
       "      <td>1985.0</td>\n",
       "      <td>256000.0</td>\n",
       "      <td>2674.64</td>\n",
       "      <td>4.0</td>\n",
       "      <td>279.171210</td>\n",
       "      <td>31.0</td>\n",
       "      <td>0.0188</td>\n",
       "    </tr>\n",
       "    <tr>\n",
       "      <th>20</th>\n",
       "      <td>-0.0408</td>\n",
       "      <td>1.0</td>\n",
       "      <td>2.0</td>\n",
       "      <td>907.0</td>\n",
       "      <td>1985.0</td>\n",
       "      <td>204919.0</td>\n",
       "      <td>2212.54</td>\n",
       "      <td>3.0</td>\n",
       "      <td>225.930540</td>\n",
       "      <td>31.0</td>\n",
       "      <td>0.0408</td>\n",
       "    </tr>\n",
       "    <tr>\n",
       "      <th>21</th>\n",
       "      <td>0.0611</td>\n",
       "      <td>3.0</td>\n",
       "      <td>5.0</td>\n",
       "      <td>2524.0</td>\n",
       "      <td>1963.0</td>\n",
       "      <td>706979.0</td>\n",
       "      <td>7428.58</td>\n",
       "      <td>8.0</td>\n",
       "      <td>280.102615</td>\n",
       "      <td>53.0</td>\n",
       "      <td>0.0611</td>\n",
       "    </tr>\n",
       "    <tr>\n",
       "      <th>22</th>\n",
       "      <td>-0.0020</td>\n",
       "      <td>2.5</td>\n",
       "      <td>4.0</td>\n",
       "      <td>2400.0</td>\n",
       "      <td>1969.0</td>\n",
       "      <td>544564.0</td>\n",
       "      <td>5744.52</td>\n",
       "      <td>6.5</td>\n",
       "      <td>226.901667</td>\n",
       "      <td>47.0</td>\n",
       "      <td>0.0020</td>\n",
       "    </tr>\n",
       "    <tr>\n",
       "      <th>23</th>\n",
       "      <td>-0.1154</td>\n",
       "      <td>2.5</td>\n",
       "      <td>3.0</td>\n",
       "      <td>2113.0</td>\n",
       "      <td>1993.0</td>\n",
       "      <td>626875.0</td>\n",
       "      <td>7249.80</td>\n",
       "      <td>5.5</td>\n",
       "      <td>296.675343</td>\n",
       "      <td>23.0</td>\n",
       "      <td>0.1154</td>\n",
       "    </tr>\n",
       "    <tr>\n",
       "      <th>24</th>\n",
       "      <td>-0.2510</td>\n",
       "      <td>2.0</td>\n",
       "      <td>3.0</td>\n",
       "      <td>2297.0</td>\n",
       "      <td>1988.0</td>\n",
       "      <td>926000.0</td>\n",
       "      <td>9867.14</td>\n",
       "      <td>5.0</td>\n",
       "      <td>403.134523</td>\n",
       "      <td>28.0</td>\n",
       "      <td>0.2510</td>\n",
       "    </tr>\n",
       "    <tr>\n",
       "      <th>25</th>\n",
       "      <td>-0.0111</td>\n",
       "      <td>3.0</td>\n",
       "      <td>5.0</td>\n",
       "      <td>1996.0</td>\n",
       "      <td>1970.0</td>\n",
       "      <td>662986.0</td>\n",
       "      <td>8644.28</td>\n",
       "      <td>8.0</td>\n",
       "      <td>332.157315</td>\n",
       "      <td>46.0</td>\n",
       "      <td>0.0111</td>\n",
       "    </tr>\n",
       "    <tr>\n",
       "      <th>26</th>\n",
       "      <td>0.0383</td>\n",
       "      <td>3.0</td>\n",
       "      <td>3.0</td>\n",
       "      <td>2445.0</td>\n",
       "      <td>1982.0</td>\n",
       "      <td>581388.0</td>\n",
       "      <td>7170.22</td>\n",
       "      <td>6.0</td>\n",
       "      <td>237.786503</td>\n",
       "      <td>34.0</td>\n",
       "      <td>0.0383</td>\n",
       "    </tr>\n",
       "    <tr>\n",
       "      <th>27</th>\n",
       "      <td>0.0030</td>\n",
       "      <td>2.0</td>\n",
       "      <td>3.0</td>\n",
       "      <td>1160.0</td>\n",
       "      <td>1960.0</td>\n",
       "      <td>437584.0</td>\n",
       "      <td>5421.96</td>\n",
       "      <td>5.0</td>\n",
       "      <td>377.227586</td>\n",
       "      <td>56.0</td>\n",
       "      <td>0.0030</td>\n",
       "    </tr>\n",
       "    <tr>\n",
       "      <th>28</th>\n",
       "      <td>-0.0020</td>\n",
       "      <td>2.0</td>\n",
       "      <td>4.0</td>\n",
       "      <td>1570.0</td>\n",
       "      <td>1959.0</td>\n",
       "      <td>397138.0</td>\n",
       "      <td>5097.78</td>\n",
       "      <td>6.0</td>\n",
       "      <td>252.954140</td>\n",
       "      <td>57.0</td>\n",
       "      <td>0.0020</td>\n",
       "    </tr>\n",
       "    <tr>\n",
       "      <th>29</th>\n",
       "      <td>0.0129</td>\n",
       "      <td>3.0</td>\n",
       "      <td>4.0</td>\n",
       "      <td>2863.0</td>\n",
       "      <td>1963.0</td>\n",
       "      <td>593502.0</td>\n",
       "      <td>7475.21</td>\n",
       "      <td>7.0</td>\n",
       "      <td>207.300733</td>\n",
       "      <td>53.0</td>\n",
       "      <td>0.0129</td>\n",
       "    </tr>\n",
       "    <tr>\n",
       "      <th>...</th>\n",
       "      <td>...</td>\n",
       "      <td>...</td>\n",
       "      <td>...</td>\n",
       "      <td>...</td>\n",
       "      <td>...</td>\n",
       "      <td>...</td>\n",
       "      <td>...</td>\n",
       "      <td>...</td>\n",
       "      <td>...</td>\n",
       "      <td>...</td>\n",
       "      <td>...</td>\n",
       "    </tr>\n",
       "    <tr>\n",
       "      <th>90245</th>\n",
       "      <td>0.1587</td>\n",
       "      <td>4.0</td>\n",
       "      <td>4.0</td>\n",
       "      <td>3568.0</td>\n",
       "      <td>2004.0</td>\n",
       "      <td>836600.0</td>\n",
       "      <td>12204.90</td>\n",
       "      <td>8.0</td>\n",
       "      <td>234.473094</td>\n",
       "      <td>12.0</td>\n",
       "      <td>0.1587</td>\n",
       "    </tr>\n",
       "    <tr>\n",
       "      <th>90246</th>\n",
       "      <td>0.0459</td>\n",
       "      <td>3.0</td>\n",
       "      <td>2.0</td>\n",
       "      <td>1656.0</td>\n",
       "      <td>2003.0</td>\n",
       "      <td>752472.0</td>\n",
       "      <td>9145.99</td>\n",
       "      <td>5.0</td>\n",
       "      <td>454.391304</td>\n",
       "      <td>13.0</td>\n",
       "      <td>0.0459</td>\n",
       "    </tr>\n",
       "    <tr>\n",
       "      <th>90247</th>\n",
       "      <td>0.0060</td>\n",
       "      <td>2.0</td>\n",
       "      <td>1.0</td>\n",
       "      <td>1450.0</td>\n",
       "      <td>2005.0</td>\n",
       "      <td>389351.0</td>\n",
       "      <td>4406.77</td>\n",
       "      <td>3.0</td>\n",
       "      <td>268.517931</td>\n",
       "      <td>11.0</td>\n",
       "      <td>0.0060</td>\n",
       "    </tr>\n",
       "    <tr>\n",
       "      <th>90248</th>\n",
       "      <td>0.0620</td>\n",
       "      <td>2.0</td>\n",
       "      <td>2.0</td>\n",
       "      <td>1240.0</td>\n",
       "      <td>2006.0</td>\n",
       "      <td>503000.0</td>\n",
       "      <td>6107.51</td>\n",
       "      <td>4.0</td>\n",
       "      <td>405.645161</td>\n",
       "      <td>10.0</td>\n",
       "      <td>0.0620</td>\n",
       "    </tr>\n",
       "    <tr>\n",
       "      <th>90249</th>\n",
       "      <td>0.0871</td>\n",
       "      <td>3.5</td>\n",
       "      <td>3.0</td>\n",
       "      <td>2972.0</td>\n",
       "      <td>2005.0</td>\n",
       "      <td>1306000.0</td>\n",
       "      <td>14773.94</td>\n",
       "      <td>6.5</td>\n",
       "      <td>439.434724</td>\n",
       "      <td>11.0</td>\n",
       "      <td>0.0871</td>\n",
       "    </tr>\n",
       "    <tr>\n",
       "      <th>90250</th>\n",
       "      <td>-0.0070</td>\n",
       "      <td>2.0</td>\n",
       "      <td>3.0</td>\n",
       "      <td>1456.0</td>\n",
       "      <td>1988.0</td>\n",
       "      <td>332997.0</td>\n",
       "      <td>4367.26</td>\n",
       "      <td>5.0</td>\n",
       "      <td>228.706731</td>\n",
       "      <td>28.0</td>\n",
       "      <td>0.0070</td>\n",
       "    </tr>\n",
       "    <tr>\n",
       "      <th>90251</th>\n",
       "      <td>-0.0171</td>\n",
       "      <td>2.0</td>\n",
       "      <td>2.0</td>\n",
       "      <td>1252.0</td>\n",
       "      <td>1988.0</td>\n",
       "      <td>351000.0</td>\n",
       "      <td>4565.96</td>\n",
       "      <td>4.0</td>\n",
       "      <td>280.351438</td>\n",
       "      <td>28.0</td>\n",
       "      <td>0.0171</td>\n",
       "    </tr>\n",
       "    <tr>\n",
       "      <th>90252</th>\n",
       "      <td>-0.0387</td>\n",
       "      <td>2.5</td>\n",
       "      <td>1.0</td>\n",
       "      <td>1680.0</td>\n",
       "      <td>2004.0</td>\n",
       "      <td>535000.0</td>\n",
       "      <td>6315.96</td>\n",
       "      <td>3.5</td>\n",
       "      <td>318.452381</td>\n",
       "      <td>12.0</td>\n",
       "      <td>0.0387</td>\n",
       "    </tr>\n",
       "    <tr>\n",
       "      <th>90253</th>\n",
       "      <td>1.4380</td>\n",
       "      <td>3.0</td>\n",
       "      <td>4.0</td>\n",
       "      <td>3096.0</td>\n",
       "      <td>2006.0</td>\n",
       "      <td>803000.0</td>\n",
       "      <td>15003.80</td>\n",
       "      <td>7.0</td>\n",
       "      <td>259.366925</td>\n",
       "      <td>10.0</td>\n",
       "      <td>1.4380</td>\n",
       "    </tr>\n",
       "    <tr>\n",
       "      <th>90254</th>\n",
       "      <td>-0.0998</td>\n",
       "      <td>3.0</td>\n",
       "      <td>2.0</td>\n",
       "      <td>1110.0</td>\n",
       "      <td>2006.0</td>\n",
       "      <td>518000.0</td>\n",
       "      <td>7890.69</td>\n",
       "      <td>5.0</td>\n",
       "      <td>466.666667</td>\n",
       "      <td>10.0</td>\n",
       "      <td>0.0998</td>\n",
       "    </tr>\n",
       "    <tr>\n",
       "      <th>90255</th>\n",
       "      <td>0.0926</td>\n",
       "      <td>1.0</td>\n",
       "      <td>1.0</td>\n",
       "      <td>728.0</td>\n",
       "      <td>2005.0</td>\n",
       "      <td>223397.0</td>\n",
       "      <td>3859.80</td>\n",
       "      <td>2.0</td>\n",
       "      <td>306.864011</td>\n",
       "      <td>11.0</td>\n",
       "      <td>0.0926</td>\n",
       "    </tr>\n",
       "    <tr>\n",
       "      <th>90256</th>\n",
       "      <td>0.0000</td>\n",
       "      <td>4.0</td>\n",
       "      <td>5.0</td>\n",
       "      <td>3308.0</td>\n",
       "      <td>2007.0</td>\n",
       "      <td>802944.0</td>\n",
       "      <td>9079.58</td>\n",
       "      <td>9.0</td>\n",
       "      <td>242.727932</td>\n",
       "      <td>9.0</td>\n",
       "      <td>0.0000</td>\n",
       "    </tr>\n",
       "    <tr>\n",
       "      <th>90257</th>\n",
       "      <td>-0.4125</td>\n",
       "      <td>2.0</td>\n",
       "      <td>2.0</td>\n",
       "      <td>1440.0</td>\n",
       "      <td>2007.0</td>\n",
       "      <td>1019979.0</td>\n",
       "      <td>12915.44</td>\n",
       "      <td>4.0</td>\n",
       "      <td>708.318750</td>\n",
       "      <td>9.0</td>\n",
       "      <td>0.4125</td>\n",
       "    </tr>\n",
       "    <tr>\n",
       "      <th>90258</th>\n",
       "      <td>0.0573</td>\n",
       "      <td>2.0</td>\n",
       "      <td>2.0</td>\n",
       "      <td>1550.0</td>\n",
       "      <td>2013.0</td>\n",
       "      <td>645136.0</td>\n",
       "      <td>9785.82</td>\n",
       "      <td>4.0</td>\n",
       "      <td>416.216774</td>\n",
       "      <td>3.0</td>\n",
       "      <td>0.0573</td>\n",
       "    </tr>\n",
       "    <tr>\n",
       "      <th>90259</th>\n",
       "      <td>0.0667</td>\n",
       "      <td>1.0</td>\n",
       "      <td>1.0</td>\n",
       "      <td>860.0</td>\n",
       "      <td>2007.0</td>\n",
       "      <td>571000.0</td>\n",
       "      <td>7247.35</td>\n",
       "      <td>2.0</td>\n",
       "      <td>663.953488</td>\n",
       "      <td>9.0</td>\n",
       "      <td>0.0667</td>\n",
       "    </tr>\n",
       "    <tr>\n",
       "      <th>90260</th>\n",
       "      <td>0.1939</td>\n",
       "      <td>3.0</td>\n",
       "      <td>4.0</td>\n",
       "      <td>2781.0</td>\n",
       "      <td>2006.0</td>\n",
       "      <td>339656.0</td>\n",
       "      <td>10735.74</td>\n",
       "      <td>7.0</td>\n",
       "      <td>122.134484</td>\n",
       "      <td>10.0</td>\n",
       "      <td>0.1939</td>\n",
       "    </tr>\n",
       "    <tr>\n",
       "      <th>90261</th>\n",
       "      <td>-0.0856</td>\n",
       "      <td>3.0</td>\n",
       "      <td>3.0</td>\n",
       "      <td>1432.0</td>\n",
       "      <td>2005.0</td>\n",
       "      <td>509989.0</td>\n",
       "      <td>6119.54</td>\n",
       "      <td>6.0</td>\n",
       "      <td>356.137570</td>\n",
       "      <td>11.0</td>\n",
       "      <td>0.0856</td>\n",
       "    </tr>\n",
       "    <tr>\n",
       "      <th>90262</th>\n",
       "      <td>-0.1590</td>\n",
       "      <td>2.0</td>\n",
       "      <td>0.0</td>\n",
       "      <td>2140.0</td>\n",
       "      <td>1928.0</td>\n",
       "      <td>338004.0</td>\n",
       "      <td>4406.28</td>\n",
       "      <td>2.0</td>\n",
       "      <td>157.945794</td>\n",
       "      <td>88.0</td>\n",
       "      <td>0.1590</td>\n",
       "    </tr>\n",
       "    <tr>\n",
       "      <th>90263</th>\n",
       "      <td>0.0305</td>\n",
       "      <td>3.0</td>\n",
       "      <td>2.0</td>\n",
       "      <td>1060.0</td>\n",
       "      <td>2008.0</td>\n",
       "      <td>297946.0</td>\n",
       "      <td>3694.31</td>\n",
       "      <td>5.0</td>\n",
       "      <td>281.081132</td>\n",
       "      <td>8.0</td>\n",
       "      <td>0.0305</td>\n",
       "    </tr>\n",
       "    <tr>\n",
       "      <th>90264</th>\n",
       "      <td>-0.0555</td>\n",
       "      <td>1.0</td>\n",
       "      <td>1.0</td>\n",
       "      <td>918.0</td>\n",
       "      <td>2004.0</td>\n",
       "      <td>419839.0</td>\n",
       "      <td>5181.65</td>\n",
       "      <td>2.0</td>\n",
       "      <td>457.340959</td>\n",
       "      <td>12.0</td>\n",
       "      <td>0.0555</td>\n",
       "    </tr>\n",
       "    <tr>\n",
       "      <th>90265</th>\n",
       "      <td>-0.0346</td>\n",
       "      <td>2.0</td>\n",
       "      <td>2.0</td>\n",
       "      <td>1492.0</td>\n",
       "      <td>2006.0</td>\n",
       "      <td>710668.0</td>\n",
       "      <td>8814.80</td>\n",
       "      <td>4.0</td>\n",
       "      <td>476.319035</td>\n",
       "      <td>10.0</td>\n",
       "      <td>0.0346</td>\n",
       "    </tr>\n",
       "    <tr>\n",
       "      <th>90266</th>\n",
       "      <td>0.1151</td>\n",
       "      <td>3.0</td>\n",
       "      <td>4.0</td>\n",
       "      <td>1771.0</td>\n",
       "      <td>2007.0</td>\n",
       "      <td>348580.0</td>\n",
       "      <td>3740.30</td>\n",
       "      <td>7.0</td>\n",
       "      <td>196.826652</td>\n",
       "      <td>9.0</td>\n",
       "      <td>0.1151</td>\n",
       "    </tr>\n",
       "    <tr>\n",
       "      <th>90267</th>\n",
       "      <td>0.0469</td>\n",
       "      <td>2.5</td>\n",
       "      <td>2.0</td>\n",
       "      <td>1638.0</td>\n",
       "      <td>2007.0</td>\n",
       "      <td>522229.0</td>\n",
       "      <td>5259.36</td>\n",
       "      <td>4.5</td>\n",
       "      <td>318.821123</td>\n",
       "      <td>9.0</td>\n",
       "      <td>0.0469</td>\n",
       "    </tr>\n",
       "    <tr>\n",
       "      <th>90268</th>\n",
       "      <td>0.0315</td>\n",
       "      <td>2.0</td>\n",
       "      <td>2.0</td>\n",
       "      <td>1308.0</td>\n",
       "      <td>2007.0</td>\n",
       "      <td>490808.0</td>\n",
       "      <td>5005.48</td>\n",
       "      <td>4.0</td>\n",
       "      <td>375.235474</td>\n",
       "      <td>9.0</td>\n",
       "      <td>0.0315</td>\n",
       "    </tr>\n",
       "    <tr>\n",
       "      <th>90269</th>\n",
       "      <td>0.0871</td>\n",
       "      <td>3.0</td>\n",
       "      <td>4.0</td>\n",
       "      <td>1713.0</td>\n",
       "      <td>2007.0</td>\n",
       "      <td>433819.0</td>\n",
       "      <td>5179.82</td>\n",
       "      <td>7.0</td>\n",
       "      <td>253.251022</td>\n",
       "      <td>9.0</td>\n",
       "      <td>0.0871</td>\n",
       "    </tr>\n",
       "    <tr>\n",
       "      <th>90270</th>\n",
       "      <td>0.0276</td>\n",
       "      <td>3.0</td>\n",
       "      <td>4.0</td>\n",
       "      <td>2068.0</td>\n",
       "      <td>2008.0</td>\n",
       "      <td>596082.0</td>\n",
       "      <td>7335.81</td>\n",
       "      <td>7.0</td>\n",
       "      <td>288.240812</td>\n",
       "      <td>8.0</td>\n",
       "      <td>0.0276</td>\n",
       "    </tr>\n",
       "    <tr>\n",
       "      <th>90271</th>\n",
       "      <td>-0.1188</td>\n",
       "      <td>2.0</td>\n",
       "      <td>3.0</td>\n",
       "      <td>1352.0</td>\n",
       "      <td>1956.0</td>\n",
       "      <td>178408.0</td>\n",
       "      <td>2441.74</td>\n",
       "      <td>5.0</td>\n",
       "      <td>131.958580</td>\n",
       "      <td>60.0</td>\n",
       "      <td>0.1188</td>\n",
       "    </tr>\n",
       "    <tr>\n",
       "      <th>90272</th>\n",
       "      <td>0.0843</td>\n",
       "      <td>2.0</td>\n",
       "      <td>2.0</td>\n",
       "      <td>860.0</td>\n",
       "      <td>2011.0</td>\n",
       "      <td>420000.0</td>\n",
       "      <td>5070.41</td>\n",
       "      <td>4.0</td>\n",
       "      <td>488.372093</td>\n",
       "      <td>5.0</td>\n",
       "      <td>0.0843</td>\n",
       "    </tr>\n",
       "    <tr>\n",
       "      <th>90273</th>\n",
       "      <td>-0.0050</td>\n",
       "      <td>2.5</td>\n",
       "      <td>3.0</td>\n",
       "      <td>2268.0</td>\n",
       "      <td>2012.0</td>\n",
       "      <td>1215816.0</td>\n",
       "      <td>12508.30</td>\n",
       "      <td>5.5</td>\n",
       "      <td>536.074074</td>\n",
       "      <td>4.0</td>\n",
       "      <td>0.0050</td>\n",
       "    </tr>\n",
       "    <tr>\n",
       "      <th>90274</th>\n",
       "      <td>0.0129</td>\n",
       "      <td>2.5</td>\n",
       "      <td>3.0</td>\n",
       "      <td>1812.0</td>\n",
       "      <td>2013.0</td>\n",
       "      <td>471286.0</td>\n",
       "      <td>5470.12</td>\n",
       "      <td>5.5</td>\n",
       "      <td>260.091611</td>\n",
       "      <td>3.0</td>\n",
       "      <td>0.0129</td>\n",
       "    </tr>\n",
       "  </tbody>\n",
       "</table>\n",
       "<p>88898 rows × 11 columns</p>\n",
       "</div>"
      ],
      "text/plain": [
       "       logerror  bathroomcnt  bedroomcnt  calculatedfinishedsquarefeet  \\\n",
       "0        0.0953          2.5         3.0                        1264.0   \n",
       "1        0.0198          1.0         2.0                         777.0   \n",
       "2        0.0060          2.0         3.0                        1101.0   \n",
       "3       -0.0566          1.5         2.0                        1554.0   \n",
       "4        0.0573          2.5         4.0                        2415.0   \n",
       "5        0.0564          2.5         4.0                        2882.0   \n",
       "6        0.0315          2.0         3.0                        1772.0   \n",
       "7        0.0257          2.5         5.0                        2632.0   \n",
       "8        0.0020          2.0         3.0                        1292.0   \n",
       "9       -0.0576          1.0         3.0                        1385.0   \n",
       "10      -0.0131          2.0         4.0                        1260.0   \n",
       "11      -0.0212          2.5         4.0                        2735.0   \n",
       "12       0.0834          2.0         5.0                        2085.0   \n",
       "13      -0.0294          3.0         3.0                        1508.0   \n",
       "14       0.0090          2.5         5.0                        1958.0   \n",
       "15       0.0573          2.0         4.0                        1687.0   \n",
       "16      -0.0151          2.5         5.0                        2232.0   \n",
       "17       0.0843          1.0         2.0                         834.0   \n",
       "18       0.0060          2.5         2.0                        1361.0   \n",
       "19       0.0188          2.0         2.0                         917.0   \n",
       "20      -0.0408          1.0         2.0                         907.0   \n",
       "21       0.0611          3.0         5.0                        2524.0   \n",
       "22      -0.0020          2.5         4.0                        2400.0   \n",
       "23      -0.1154          2.5         3.0                        2113.0   \n",
       "24      -0.2510          2.0         3.0                        2297.0   \n",
       "25      -0.0111          3.0         5.0                        1996.0   \n",
       "26       0.0383          3.0         3.0                        2445.0   \n",
       "27       0.0030          2.0         3.0                        1160.0   \n",
       "28      -0.0020          2.0         4.0                        1570.0   \n",
       "29       0.0129          3.0         4.0                        2863.0   \n",
       "...         ...          ...         ...                           ...   \n",
       "90245    0.1587          4.0         4.0                        3568.0   \n",
       "90246    0.0459          3.0         2.0                        1656.0   \n",
       "90247    0.0060          2.0         1.0                        1450.0   \n",
       "90248    0.0620          2.0         2.0                        1240.0   \n",
       "90249    0.0871          3.5         3.0                        2972.0   \n",
       "90250   -0.0070          2.0         3.0                        1456.0   \n",
       "90251   -0.0171          2.0         2.0                        1252.0   \n",
       "90252   -0.0387          2.5         1.0                        1680.0   \n",
       "90253    1.4380          3.0         4.0                        3096.0   \n",
       "90254   -0.0998          3.0         2.0                        1110.0   \n",
       "90255    0.0926          1.0         1.0                         728.0   \n",
       "90256    0.0000          4.0         5.0                        3308.0   \n",
       "90257   -0.4125          2.0         2.0                        1440.0   \n",
       "90258    0.0573          2.0         2.0                        1550.0   \n",
       "90259    0.0667          1.0         1.0                         860.0   \n",
       "90260    0.1939          3.0         4.0                        2781.0   \n",
       "90261   -0.0856          3.0         3.0                        1432.0   \n",
       "90262   -0.1590          2.0         0.0                        2140.0   \n",
       "90263    0.0305          3.0         2.0                        1060.0   \n",
       "90264   -0.0555          1.0         1.0                         918.0   \n",
       "90265   -0.0346          2.0         2.0                        1492.0   \n",
       "90266    0.1151          3.0         4.0                        1771.0   \n",
       "90267    0.0469          2.5         2.0                        1638.0   \n",
       "90268    0.0315          2.0         2.0                        1308.0   \n",
       "90269    0.0871          3.0         4.0                        1713.0   \n",
       "90270    0.0276          3.0         4.0                        2068.0   \n",
       "90271   -0.1188          2.0         3.0                        1352.0   \n",
       "90272    0.0843          2.0         2.0                         860.0   \n",
       "90273   -0.0050          2.5         3.0                        2268.0   \n",
       "90274    0.0129          2.5         3.0                        1812.0   \n",
       "\n",
       "       yearbuilt  taxvaluedollarcnt  taxamount  rmcount  value_per_sq_ft  \\\n",
       "0         1986.0           191811.0    2015.06      5.5       151.749209   \n",
       "1         1990.0           239679.0    2581.30      3.0       308.467181   \n",
       "2         1956.0            47853.0     591.64      5.0        43.463215   \n",
       "3         1965.0            62914.0     682.78      3.5        40.485199   \n",
       "4         1984.0           554000.0    5886.92      6.5       229.399586   \n",
       "5         1980.0           289609.0    3110.44      6.5       100.488897   \n",
       "6         1978.0           526000.0    5632.20      5.0       296.839729   \n",
       "7         1971.0           571086.0    6109.94      7.5       216.977964   \n",
       "8         1979.0           462594.0    5026.40      5.0       358.044892   \n",
       "9         1950.0           268502.0    3217.06      4.0       193.864260   \n",
       "10        1969.0            61453.0     702.40      6.0        48.772222   \n",
       "11        1984.0           399742.0    4595.36      6.5       146.157952   \n",
       "12        1962.0           657000.0    6991.06      7.0       315.107914   \n",
       "13        1981.0           407991.0    4267.96      6.0       270.551061   \n",
       "14        1964.0           201400.0    2512.42      7.5       102.860061   \n",
       "15        1961.0           311415.0    3763.38      6.0       184.596918   \n",
       "16        1965.0           451900.0    5185.66      7.5       202.464158   \n",
       "17        1976.0           158096.0    1991.34      3.0       189.563549   \n",
       "18        1980.0           300726.0    3216.88      4.5       220.959589   \n",
       "19        1985.0           256000.0    2674.64      4.0       279.171210   \n",
       "20        1985.0           204919.0    2212.54      3.0       225.930540   \n",
       "21        1963.0           706979.0    7428.58      8.0       280.102615   \n",
       "22        1969.0           544564.0    5744.52      6.5       226.901667   \n",
       "23        1993.0           626875.0    7249.80      5.5       296.675343   \n",
       "24        1988.0           926000.0    9867.14      5.0       403.134523   \n",
       "25        1970.0           662986.0    8644.28      8.0       332.157315   \n",
       "26        1982.0           581388.0    7170.22      6.0       237.786503   \n",
       "27        1960.0           437584.0    5421.96      5.0       377.227586   \n",
       "28        1959.0           397138.0    5097.78      6.0       252.954140   \n",
       "29        1963.0           593502.0    7475.21      7.0       207.300733   \n",
       "...          ...                ...        ...      ...              ...   \n",
       "90245     2004.0           836600.0   12204.90      8.0       234.473094   \n",
       "90246     2003.0           752472.0    9145.99      5.0       454.391304   \n",
       "90247     2005.0           389351.0    4406.77      3.0       268.517931   \n",
       "90248     2006.0           503000.0    6107.51      4.0       405.645161   \n",
       "90249     2005.0          1306000.0   14773.94      6.5       439.434724   \n",
       "90250     1988.0           332997.0    4367.26      5.0       228.706731   \n",
       "90251     1988.0           351000.0    4565.96      4.0       280.351438   \n",
       "90252     2004.0           535000.0    6315.96      3.5       318.452381   \n",
       "90253     2006.0           803000.0   15003.80      7.0       259.366925   \n",
       "90254     2006.0           518000.0    7890.69      5.0       466.666667   \n",
       "90255     2005.0           223397.0    3859.80      2.0       306.864011   \n",
       "90256     2007.0           802944.0    9079.58      9.0       242.727932   \n",
       "90257     2007.0          1019979.0   12915.44      4.0       708.318750   \n",
       "90258     2013.0           645136.0    9785.82      4.0       416.216774   \n",
       "90259     2007.0           571000.0    7247.35      2.0       663.953488   \n",
       "90260     2006.0           339656.0   10735.74      7.0       122.134484   \n",
       "90261     2005.0           509989.0    6119.54      6.0       356.137570   \n",
       "90262     1928.0           338004.0    4406.28      2.0       157.945794   \n",
       "90263     2008.0           297946.0    3694.31      5.0       281.081132   \n",
       "90264     2004.0           419839.0    5181.65      2.0       457.340959   \n",
       "90265     2006.0           710668.0    8814.80      4.0       476.319035   \n",
       "90266     2007.0           348580.0    3740.30      7.0       196.826652   \n",
       "90267     2007.0           522229.0    5259.36      4.5       318.821123   \n",
       "90268     2007.0           490808.0    5005.48      4.0       375.235474   \n",
       "90269     2007.0           433819.0    5179.82      7.0       253.251022   \n",
       "90270     2008.0           596082.0    7335.81      7.0       288.240812   \n",
       "90271     1956.0           178408.0    2441.74      5.0       131.958580   \n",
       "90272     2011.0           420000.0    5070.41      4.0       488.372093   \n",
       "90273     2012.0          1215816.0   12508.30      5.5       536.074074   \n",
       "90274     2013.0           471286.0    5470.12      5.5       260.091611   \n",
       "\n",
       "       age_of_property  abs_logerror  \n",
       "0                 30.0        0.0953  \n",
       "1                 26.0        0.0198  \n",
       "2                 60.0        0.0060  \n",
       "3                 51.0        0.0566  \n",
       "4                 32.0        0.0573  \n",
       "5                 36.0        0.0564  \n",
       "6                 38.0        0.0315  \n",
       "7                 45.0        0.0257  \n",
       "8                 37.0        0.0020  \n",
       "9                 66.0        0.0576  \n",
       "10                47.0        0.0131  \n",
       "11                32.0        0.0212  \n",
       "12                54.0        0.0834  \n",
       "13                35.0        0.0294  \n",
       "14                52.0        0.0090  \n",
       "15                55.0        0.0573  \n",
       "16                51.0        0.0151  \n",
       "17                40.0        0.0843  \n",
       "18                36.0        0.0060  \n",
       "19                31.0        0.0188  \n",
       "20                31.0        0.0408  \n",
       "21                53.0        0.0611  \n",
       "22                47.0        0.0020  \n",
       "23                23.0        0.1154  \n",
       "24                28.0        0.2510  \n",
       "25                46.0        0.0111  \n",
       "26                34.0        0.0383  \n",
       "27                56.0        0.0030  \n",
       "28                57.0        0.0020  \n",
       "29                53.0        0.0129  \n",
       "...                ...           ...  \n",
       "90245             12.0        0.1587  \n",
       "90246             13.0        0.0459  \n",
       "90247             11.0        0.0060  \n",
       "90248             10.0        0.0620  \n",
       "90249             11.0        0.0871  \n",
       "90250             28.0        0.0070  \n",
       "90251             28.0        0.0171  \n",
       "90252             12.0        0.0387  \n",
       "90253             10.0        1.4380  \n",
       "90254             10.0        0.0998  \n",
       "90255             11.0        0.0926  \n",
       "90256              9.0        0.0000  \n",
       "90257              9.0        0.4125  \n",
       "90258              3.0        0.0573  \n",
       "90259              9.0        0.0667  \n",
       "90260             10.0        0.1939  \n",
       "90261             11.0        0.0856  \n",
       "90262             88.0        0.1590  \n",
       "90263              8.0        0.0305  \n",
       "90264             12.0        0.0555  \n",
       "90265             10.0        0.0346  \n",
       "90266              9.0        0.1151  \n",
       "90267              9.0        0.0469  \n",
       "90268              9.0        0.0315  \n",
       "90269              9.0        0.0871  \n",
       "90270              8.0        0.0276  \n",
       "90271             60.0        0.1188  \n",
       "90272              5.0        0.0843  \n",
       "90273              4.0        0.0050  \n",
       "90274              3.0        0.0129  \n",
       "\n",
       "[88898 rows x 11 columns]"
      ]
     },
     "execution_count": 88,
     "metadata": {},
     "output_type": "execute_result"
    }
   ],
   "source": [
    "df2 = df2.drop(['parcelid', 'roomcnt', 'garagecarcnt', 'fullbathcnt'], axis=1) \n",
    "\n",
    "#creating column for new room count\n",
    "df2 = df2.assign(rmcount=df2.bathroomcnt+df2.bedroomcnt)\n",
    "\n",
    "#creating column for value per square foot\n",
    "df2 = df2.assign(value_per_sq_ft=df2.taxvaluedollarcnt/df2.calculatedfinishedsquarefeet)\n",
    "df2 = df2.drop(df2[(df2.value_per_sq_ft).isnull()].index)\n",
    "df2 = df2.drop(df2[(df2.value_per_sq_ft > 7000)].index)\n",
    "df2.sort_values(['value_per_sq_ft'], ascending=True)\n",
    "\n",
    "#creating column for age of property\n",
    "df2 = df2.drop(df2[(df2.yearbuilt).isnull()].index)\n",
    "df2 = df2.assign(age_of_property=2016-df2.yearbuilt)\n",
    "df2.describe()\n",
    "\n",
    "# creating column for absolute value of log error\n",
    "df2 = df2.assign(abs_logerror=df2.logerror.abs())\n",
    "\n",
    "df2"
   ]
  },
  {
   "cell_type": "markdown",
   "metadata": {},
   "source": [
    "#### Split data into training and test datasets"
   ]
  },
  {
   "cell_type": "code",
   "execution_count": 89,
   "metadata": {},
   "outputs": [
    {
     "name": "stderr",
     "output_type": "stream",
     "text": [
      "/usr/local/anaconda3/lib/python3.7/site-packages/sklearn/model_selection/_split.py:2179: FutureWarning: From version 0.21, test_size will always complement train_size unless both are specified.\n",
      "  FutureWarning)\n"
     ]
    }
   ],
   "source": [
    "X = df2.drop(['logerror', 'abs_logerror'], axis=1) #make sure to use capital X\n",
    "y = df2[['logerror']] #y is dependent variable\n",
    "\n",
    "X_train, X_test, y_train, y_test = train_test_split(X, y, train_size=.80, random_state=0)\n",
    "\n",
    "train = pd.concat([X_train, y_train], axis=1) #axis = columns\n",
    "test = pd.concat([X_test, y_test], axis=1)"
   ]
  },
  {
   "cell_type": "markdown",
   "metadata": {},
   "source": [
    "#### Create a jointplot for each independent variable with the dependent variable. \n",
    "\n",
    "Be sure you have Pearson's r and p-value annotated on each plot."
   ]
  },
  {
   "cell_type": "code",
   "execution_count": 90,
   "metadata": {},
   "outputs": [
    {
     "name": "stderr",
     "output_type": "stream",
     "text": [
      "/usr/local/anaconda3/lib/python3.7/site-packages/scipy/stats/stats.py:1713: FutureWarning: Using a non-tuple sequence for multidimensional indexing is deprecated; use `arr[tuple(seq)]` instead of `arr[seq]`. In the future this will be interpreted as an array index, `arr[np.array(seq)]`, which will result either in an error or a different result.\n",
      "  return np.add.reduce(sorted[indexer] * weights, axis=axis) / sumval\n",
      "/usr/local/anaconda3/lib/python3.7/site-packages/seaborn/axisgrid.py:1847: UserWarning: JointGrid annotation is deprecated and will be removed in a future release.\n",
      "  warnings.warn(UserWarning(msg))\n",
      "/usr/local/anaconda3/lib/python3.7/site-packages/seaborn/axisgrid.py:1847: UserWarning: JointGrid annotation is deprecated and will be removed in a future release.\n",
      "  warnings.warn(UserWarning(msg))\n",
      "/usr/local/anaconda3/lib/python3.7/site-packages/seaborn/axisgrid.py:1847: UserWarning: JointGrid annotation is deprecated and will be removed in a future release.\n",
      "  warnings.warn(UserWarning(msg))\n",
      "/usr/local/anaconda3/lib/python3.7/site-packages/seaborn/axisgrid.py:1847: UserWarning: JointGrid annotation is deprecated and will be removed in a future release.\n",
      "  warnings.warn(UserWarning(msg))\n",
      "/usr/local/anaconda3/lib/python3.7/site-packages/seaborn/axisgrid.py:1847: UserWarning: JointGrid annotation is deprecated and will be removed in a future release.\n",
      "  warnings.warn(UserWarning(msg))\n",
      "/usr/local/anaconda3/lib/python3.7/site-packages/seaborn/axisgrid.py:1847: UserWarning: JointGrid annotation is deprecated and will be removed in a future release.\n",
      "  warnings.warn(UserWarning(msg))\n"
     ]
    },
    {
     "data": {
      "image/png": "[encoded data removed]",
      "text/plain": [
       "<Figure size 360x360 with 3 Axes>"
      ]
     },
     "metadata": {
      "needs_background": "light"
     },
     "output_type": "display_data"
    },
    {
     "data": {
      "image/png": "[encoded data removed]",
      "text/plain": [
       "<Figure size 360x360 with 3 Axes>"
      ]
     },
     "metadata": {
      "needs_background": "light"
     },
     "output_type": "display_data"
    },
    {
     "data": {
      "image/png": "[encoded data removed]",
      "text/plain": [
       "<Figure size 360x360 with 3 Axes>"
      ]
     },
     "metadata": {
      "needs_background": "light"
     },
     "output_type": "display_data"
    },
    {
     "data": {
      "image/png": "[encoded data removed]",
      "text/plain": [
       "<Figure size 360x360 with 3 Axes>"
      ]
     },
     "metadata": {
      "needs_background": "light"
     },
     "output_type": "display_data"
    },
    {
     "data": {
      "image/png": "[encoded data removed]",
      "text/plain": [
       "<Figure size 360x360 with 3 Axes>"
      ]
     },
     "metadata": {
      "needs_background": "light"
     },
     "output_type": "display_data"
    },
    {
     "data": {
      "image/png": "[encoded data removed]",
      "text/plain": [
       "<Figure size 360x360 with 3 Axes>"
      ]
     },
     "metadata": {
      "needs_background": "light"
     },
     "output_type": "display_data"
    }
   ],
   "source": [
    "for i, col in enumerate(['bathroomcnt', 'bedroomcnt', 'calculatedfinishedsquarefeet', 'yearbuilt', 'taxvaluedollarcnt', 'taxamount']):\n",
    "    plot_number = i + 1 \n",
    "    series = df[col]\n",
    "    j = sns.jointplot(col, \"logerror\", data=train, kind='reg', height=5);\n",
    "    j.annotate(stats.pearsonr)\n",
    "plt.show()"
   ]
  },
  {
   "cell_type": "markdown",
   "metadata": {},
   "source": [
    "#### Create a feature plot using seaborn's PairGrid() of the interaction between each variable (dependent + independent). \n",
    "\n",
    "You may want to use a normalized dataframe (if you did that) or adjust the axis scale (set to logarithmic, e.g) so you can more clearly view the interactions."
   ]
  },
  {
   "cell_type": "code",
   "execution_count": 91,
   "metadata": {},
   "outputs": [
    {
     "name": "stderr",
     "output_type": "stream",
     "text": [
      "/usr/local/anaconda3/lib/python3.7/site-packages/numpy/lib/histograms.py:754: RuntimeWarning: invalid value encountered in greater_equal\n",
      "  keep = (tmp_a >= first_edge)\n",
      "/usr/local/anaconda3/lib/python3.7/site-packages/numpy/lib/histograms.py:755: RuntimeWarning: invalid value encountered in less_equal\n",
      "  keep &= (tmp_a <= last_edge)\n"
     ]
    },
    {
     "data": {
      "image/png": "[encoded data removed]",
      "text/plain": [
       "<Figure size 1800x1800 with 110 Axes>"
      ]
     },
     "metadata": {
      "needs_background": "light"
     },
     "output_type": "display_data"
    }
   ],
   "source": [
    "g = sns.PairGrid(train)\n",
    "g.map_diag(plt.hist)\n",
    "g.map_offdiag(plt.scatter)\n",
    "plt.xscale('log')\n",
    "plt.yscale('log')\n",
    "plt.show()"
   ]
  },
  {
   "cell_type": "markdown",
   "metadata": {},
   "source": [
    "#### Create a heatmap of the correlation between each variable pair."
   ]
  },
  {
   "cell_type": "code",
   "execution_count": 92,
   "metadata": {},
   "outputs": [
    {
     "data": {
      "text/plain": [
       "<matplotlib.axes._subplots.AxesSubplot at 0x1c2866bf60>"
      ]
     },
     "execution_count": 92,
     "metadata": {},
     "output_type": "execute_result"
    },
    {
     "data": {
      "image/png": "[encoded data removed]",
      "text/plain": [
       "<Figure size 720x432 with 2 Axes>"
      ]
     },
     "metadata": {
      "needs_background": "light"
     },
     "output_type": "display_data"
    }
   ],
   "source": [
    "plt.figure(figsize=(10,6))\n",
    "sns.heatmap(train.corr(), cmap='Blues', annot=True)"
   ]
  },
  {
   "cell_type": "markdown",
   "metadata": {},
   "source": [
    "#### Summarize your conclusions from all of these steps.  "
   ]
  },
  {
   "cell_type": "markdown",
   "metadata": {},
   "source": [
    "- No single variable seems to have a strong correlation with log error \n",
    "- Groups of variables correlate with each other, such as calculatedfinishedsquarefeet with room count, tax amount with calculatedfinishedsquarefeet, and tax amount with taxvaluedollarcnt"
   ]
  },
  {
   "cell_type": "markdown",
   "metadata": {},
   "source": [
    "#### Is the logerror significantly different for homes with 3 bedrooms vs those with 5 or more bedrooms? \n",
    "Run a t-test to test this difference."
   ]
  },
  {
   "cell_type": "code",
   "execution_count": 93,
   "metadata": {},
   "outputs": [
    {
     "data": {
      "text/plain": [
       "Ttest_indResult(statistic=5.536271182524083, pvalue=3.112757428300649e-08)"
      ]
     },
     "execution_count": 93,
     "metadata": {},
     "output_type": "execute_result"
    }
   ],
   "source": [
    "train3 = train[train.bedroomcnt == 3]\n",
    "train5 = train[train.bedroomcnt >= 5]\n",
    "\n",
    "ttest_ind(train5.logerror, train3.logerror)"
   ]
  },
  {
   "cell_type": "code",
   "execution_count": 24,
   "metadata": {},
   "outputs": [
    {
     "name": "stderr",
     "output_type": "stream",
     "text": [
      "/usr/local/anaconda3/lib/python3.7/site-packages/statsmodels/regression/linear_model.py:1554: RuntimeWarning: divide by zero encountered in double_scalars\n",
      "  return self.ess/self.df_model\n"
     ]
    },
    {
     "data": {
      "text/html": [
       "<table class=\"simpletable\">\n",
       "<caption>OLS Regression Results</caption>\n",
       "<tr>\n",
       "  <th>Dep. Variable:</th>      <td>abs_logerror</td>   <th>  R-squared:         </th>  <td>  -0.000</td> \n",
       "</tr>\n",
       "<tr>\n",
       "  <th>Model:</th>                   <td>OLS</td>       <th>  Adj. R-squared:    </th>  <td>  -0.000</td> \n",
       "</tr>\n",
       "<tr>\n",
       "  <th>Method:</th>             <td>Least Squares</td>  <th>  F-statistic:       </th>  <td>    -inf</td> \n",
       "</tr>\n",
       "<tr>\n",
       "  <th>Date:</th>             <td>Sun, 24 Mar 2019</td> <th>  Prob (F-statistic):</th>   <td>   nan</td>  \n",
       "</tr>\n",
       "<tr>\n",
       "  <th>Time:</th>                 <td>11:24:09</td>     <th>  Log-Likelihood:    </th>  <td>  16314.</td> \n",
       "</tr>\n",
       "<tr>\n",
       "  <th>No. Observations:</th>      <td> 28270</td>      <th>  AIC:               </th> <td>-3.263e+04</td>\n",
       "</tr>\n",
       "<tr>\n",
       "  <th>Df Residuals:</th>          <td> 28269</td>      <th>  BIC:               </th> <td>-3.262e+04</td>\n",
       "</tr>\n",
       "<tr>\n",
       "  <th>Df Model:</th>              <td>     0</td>      <th>                     </th>      <td> </td>    \n",
       "</tr>\n",
       "<tr>\n",
       "  <th>Covariance Type:</th>      <td>nonrobust</td>    <th>                     </th>      <td> </td>    \n",
       "</tr>\n",
       "</table>\n",
       "<table class=\"simpletable\">\n",
       "<tr>\n",
       "       <td></td>         <th>coef</th>     <th>std err</th>      <th>t</th>      <th>P>|t|</th>  <th>[0.025</th>    <th>0.975]</th>  \n",
       "</tr>\n",
       "<tr>\n",
       "  <th>bedroomcnt</th> <td>    0.0210</td> <td>    0.000</td> <td>   78.009</td> <td> 0.000</td> <td>    0.020</td> <td>    0.022</td>\n",
       "</tr>\n",
       "</table>\n",
       "<table class=\"simpletable\">\n",
       "<tr>\n",
       "  <th>Omnibus:</th>       <td>47402.927</td> <th>  Durbin-Watson:     </th>   <td>   1.998</td>  \n",
       "</tr>\n",
       "<tr>\n",
       "  <th>Prob(Omnibus):</th>  <td> 0.000</td>   <th>  Jarque-Bera (JB):  </th> <td>56088687.883</td>\n",
       "</tr>\n",
       "<tr>\n",
       "  <th>Skew:</th>           <td>11.343</td>   <th>  Prob(JB):          </th>   <td>    0.00</td>  \n",
       "</tr>\n",
       "<tr>\n",
       "  <th>Kurtosis:</th>       <td>220.030</td>  <th>  Cond. No.          </th>   <td>    1.00</td>  \n",
       "</tr>\n",
       "</table><br/><br/>Warnings:<br/>[1] Standard Errors assume that the covariance matrix of the errors is correctly specified."
      ],
      "text/plain": [
       "<class 'statsmodels.iolib.summary.Summary'>\n",
       "\"\"\"\n",
       "                            OLS Regression Results                            \n",
       "==============================================================================\n",
       "Dep. Variable:           abs_logerror   R-squared:                      -0.000\n",
       "Model:                            OLS   Adj. R-squared:                 -0.000\n",
       "Method:                 Least Squares   F-statistic:                      -inf\n",
       "Date:                Sun, 24 Mar 2019   Prob (F-statistic):                nan\n",
       "Time:                        11:24:09   Log-Likelihood:                 16314.\n",
       "No. Observations:               28270   AIC:                        -3.263e+04\n",
       "Df Residuals:                   28269   BIC:                        -3.262e+04\n",
       "Df Model:                           0                                         \n",
       "Covariance Type:            nonrobust                                         \n",
       "==============================================================================\n",
       "                 coef    std err          t      P>|t|      [0.025      0.975]\n",
       "------------------------------------------------------------------------------\n",
       "bedroomcnt     0.0210      0.000     78.009      0.000       0.020       0.022\n",
       "==============================================================================\n",
       "Omnibus:                    47402.927   Durbin-Watson:                   1.998\n",
       "Prob(Omnibus):                  0.000   Jarque-Bera (JB):         56088687.883\n",
       "Skew:                          11.343   Prob(JB):                         0.00\n",
       "Kurtosis:                     220.030   Cond. No.                         1.00\n",
       "==============================================================================\n",
       "\n",
       "Warnings:\n",
       "[1] Standard Errors assume that the covariance matrix of the errors is correctly specified.\n",
       "\"\"\""
      ]
     },
     "execution_count": 24,
     "metadata": {},
     "output_type": "execute_result"
    }
   ],
   "source": [
    "ols_model = sm.OLS(train3.logerror, train3.bedroomcnt)\n",
    "fit = ols_model.fit()\n",
    "fit.summary()"
   ]
  },
  {
   "cell_type": "code",
   "execution_count": 94,
   "metadata": {},
   "outputs": [
    {
     "data": {
      "text/html": [
       "<table class=\"simpletable\">\n",
       "<caption>OLS Regression Results</caption>\n",
       "<tr>\n",
       "  <th>Dep. Variable:</th>        <td>logerror</td>     <th>  R-squared:         </th> <td>   0.015</td>\n",
       "</tr>\n",
       "<tr>\n",
       "  <th>Model:</th>                   <td>OLS</td>       <th>  Adj. R-squared:    </th> <td>   0.015</td>\n",
       "</tr>\n",
       "<tr>\n",
       "  <th>Method:</th>             <td>Least Squares</td>  <th>  F-statistic:       </th> <td>   85.92</td>\n",
       "</tr>\n",
       "<tr>\n",
       "  <th>Date:</th>             <td>Mon, 25 Mar 2019</td> <th>  Prob (F-statistic):</th> <td>2.64e-20</td>\n",
       "</tr>\n",
       "<tr>\n",
       "  <th>Time:</th>                 <td>16:46:23</td>     <th>  Log-Likelihood:    </th> <td>  1473.1</td>\n",
       "</tr>\n",
       "<tr>\n",
       "  <th>No. Observations:</th>      <td>  5468</td>      <th>  AIC:               </th> <td>  -2944.</td>\n",
       "</tr>\n",
       "<tr>\n",
       "  <th>Df Residuals:</th>          <td>  5467</td>      <th>  BIC:               </th> <td>  -2937.</td>\n",
       "</tr>\n",
       "<tr>\n",
       "  <th>Df Model:</th>              <td>     1</td>      <th>                     </th>     <td> </td>   \n",
       "</tr>\n",
       "<tr>\n",
       "  <th>Covariance Type:</th>      <td>nonrobust</td>    <th>                     </th>     <td> </td>   \n",
       "</tr>\n",
       "</table>\n",
       "<table class=\"simpletable\">\n",
       "<tr>\n",
       "       <td></td>         <th>coef</th>     <th>std err</th>      <th>t</th>      <th>P>|t|</th>  <th>[0.025</th>    <th>0.975]</th>  \n",
       "</tr>\n",
       "<tr>\n",
       "  <th>bedroomcnt</th> <td>    0.0042</td> <td>    0.000</td> <td>    9.269</td> <td> 0.000</td> <td>    0.003</td> <td>    0.005</td>\n",
       "</tr>\n",
       "</table>\n",
       "<table class=\"simpletable\">\n",
       "<tr>\n",
       "  <th>Omnibus:</th>       <td>5233.174</td> <th>  Durbin-Watson:     </th>  <td>   1.953</td>  \n",
       "</tr>\n",
       "<tr>\n",
       "  <th>Prob(Omnibus):</th>  <td> 0.000</td>  <th>  Jarque-Bera (JB):  </th> <td>1478381.769</td>\n",
       "</tr>\n",
       "<tr>\n",
       "  <th>Skew:</th>           <td> 3.950</td>  <th>  Prob(JB):          </th>  <td>    0.00</td>  \n",
       "</tr>\n",
       "<tr>\n",
       "  <th>Kurtosis:</th>       <td>83.165</td>  <th>  Cond. No.          </th>  <td>    1.00</td>  \n",
       "</tr>\n",
       "</table><br/><br/>Warnings:<br/>[1] Standard Errors assume that the covariance matrix of the errors is correctly specified."
      ],
      "text/plain": [
       "<class 'statsmodels.iolib.summary.Summary'>\n",
       "\"\"\"\n",
       "                            OLS Regression Results                            \n",
       "==============================================================================\n",
       "Dep. Variable:               logerror   R-squared:                       0.015\n",
       "Model:                            OLS   Adj. R-squared:                  0.015\n",
       "Method:                 Least Squares   F-statistic:                     85.92\n",
       "Date:                Mon, 25 Mar 2019   Prob (F-statistic):           2.64e-20\n",
       "Time:                        16:46:23   Log-Likelihood:                 1473.1\n",
       "No. Observations:                5468   AIC:                            -2944.\n",
       "Df Residuals:                    5467   BIC:                            -2937.\n",
       "Df Model:                           1                                         \n",
       "Covariance Type:            nonrobust                                         \n",
       "==============================================================================\n",
       "                 coef    std err          t      P>|t|      [0.025      0.975]\n",
       "------------------------------------------------------------------------------\n",
       "bedroomcnt     0.0042      0.000      9.269      0.000       0.003       0.005\n",
       "==============================================================================\n",
       "Omnibus:                     5233.174   Durbin-Watson:                   1.953\n",
       "Prob(Omnibus):                  0.000   Jarque-Bera (JB):          1478381.769\n",
       "Skew:                           3.950   Prob(JB):                         0.00\n",
       "Kurtosis:                      83.165   Cond. No.                         1.00\n",
       "==============================================================================\n",
       "\n",
       "Warnings:\n",
       "[1] Standard Errors assume that the covariance matrix of the errors is correctly specified.\n",
       "\"\"\""
      ]
     },
     "execution_count": 94,
     "metadata": {},
     "output_type": "execute_result"
    }
   ],
   "source": [
    "ols_model = sm.OLS(train5.logerror, train5.bedroomcnt)\n",
    "fit = ols_model.fit()\n",
    "fit.summary()"
   ]
  },
  {
   "cell_type": "markdown",
   "metadata": {},
   "source": [
    "#### Do the same for another 2 samples you are interested in comparing (e.g. those with 1 bath vs. x baths)"
   ]
  },
  {
   "cell_type": "code",
   "execution_count": 95,
   "metadata": {},
   "outputs": [
    {
     "data": {
      "text/plain": [
       "Ttest_indResult(statistic=-6.016379566395594, pvalue=1.7923990095350131e-09)"
      ]
     },
     "execution_count": 95,
     "metadata": {},
     "output_type": "execute_result"
    }
   ],
   "source": [
    "train_bath1 = train[train.bathroomcnt <= 3]\n",
    "train_bath2 = train[train.bathroomcnt >= 4]\n",
    "\n",
    "ttest_ind(train_bath1.logerror, train_bath2.logerror)"
   ]
  },
  {
   "cell_type": "code",
   "execution_count": 96,
   "metadata": {},
   "outputs": [
    {
     "data": {
      "text/html": [
       "<table class=\"simpletable\">\n",
       "<caption>OLS Regression Results</caption>\n",
       "<tr>\n",
       "  <th>Dep. Variable:</th>        <td>logerror</td>     <th>  R-squared:         </th>  <td>   0.005</td> \n",
       "</tr>\n",
       "<tr>\n",
       "  <th>Model:</th>                   <td>OLS</td>       <th>  Adj. R-squared:    </th>  <td>   0.005</td> \n",
       "</tr>\n",
       "<tr>\n",
       "  <th>Method:</th>             <td>Least Squares</td>  <th>  F-statistic:       </th>  <td>   309.0</td> \n",
       "</tr>\n",
       "<tr>\n",
       "  <th>Date:</th>             <td>Mon, 25 Mar 2019</td> <th>  Prob (F-statistic):</th>  <td>5.16e-69</td> \n",
       "</tr>\n",
       "<tr>\n",
       "  <th>Time:</th>                 <td>16:46:47</td>     <th>  Log-Likelihood:    </th>  <td>  29269.</td> \n",
       "</tr>\n",
       "<tr>\n",
       "  <th>No. Observations:</th>      <td> 64890</td>      <th>  AIC:               </th> <td>-5.854e+04</td>\n",
       "</tr>\n",
       "<tr>\n",
       "  <th>Df Residuals:</th>          <td> 64889</td>      <th>  BIC:               </th> <td>-5.853e+04</td>\n",
       "</tr>\n",
       "<tr>\n",
       "  <th>Df Model:</th>              <td>     1</td>      <th>                     </th>      <td> </td>    \n",
       "</tr>\n",
       "<tr>\n",
       "  <th>Covariance Type:</th>      <td>nonrobust</td>    <th>                     </th>      <td> </td>    \n",
       "</tr>\n",
       "</table>\n",
       "<table class=\"simpletable\">\n",
       "<tr>\n",
       "       <td></td>          <th>coef</th>     <th>std err</th>      <th>t</th>      <th>P>|t|</th>  <th>[0.025</th>    <th>0.975]</th>  \n",
       "</tr>\n",
       "<tr>\n",
       "  <th>bathroomcnt</th> <td>    0.0048</td> <td>    0.000</td> <td>   17.579</td> <td> 0.000</td> <td>    0.004</td> <td>    0.005</td>\n",
       "</tr>\n",
       "</table>\n",
       "<table class=\"simpletable\">\n",
       "<tr>\n",
       "  <th>Omnibus:</th>       <td>50221.662</td> <th>  Durbin-Watson:     </th>   <td>   2.007</td>  \n",
       "</tr>\n",
       "<tr>\n",
       "  <th>Prob(Omnibus):</th>  <td> 0.000</td>   <th>  Jarque-Bera (JB):  </th> <td>64815080.036</td>\n",
       "</tr>\n",
       "<tr>\n",
       "  <th>Skew:</th>           <td> 2.348</td>   <th>  Prob(JB):          </th>   <td>    0.00</td>  \n",
       "</tr>\n",
       "<tr>\n",
       "  <th>Kurtosis:</th>       <td>157.759</td>  <th>  Cond. No.          </th>   <td>    1.00</td>  \n",
       "</tr>\n",
       "</table><br/><br/>Warnings:<br/>[1] Standard Errors assume that the covariance matrix of the errors is correctly specified."
      ],
      "text/plain": [
       "<class 'statsmodels.iolib.summary.Summary'>\n",
       "\"\"\"\n",
       "                            OLS Regression Results                            \n",
       "==============================================================================\n",
       "Dep. Variable:               logerror   R-squared:                       0.005\n",
       "Model:                            OLS   Adj. R-squared:                  0.005\n",
       "Method:                 Least Squares   F-statistic:                     309.0\n",
       "Date:                Mon, 25 Mar 2019   Prob (F-statistic):           5.16e-69\n",
       "Time:                        16:46:47   Log-Likelihood:                 29269.\n",
       "No. Observations:               64890   AIC:                        -5.854e+04\n",
       "Df Residuals:                   64889   BIC:                        -5.853e+04\n",
       "Df Model:                           1                                         \n",
       "Covariance Type:            nonrobust                                         \n",
       "===============================================================================\n",
       "                  coef    std err          t      P>|t|      [0.025      0.975]\n",
       "-------------------------------------------------------------------------------\n",
       "bathroomcnt     0.0048      0.000     17.579      0.000       0.004       0.005\n",
       "==============================================================================\n",
       "Omnibus:                    50221.662   Durbin-Watson:                   2.007\n",
       "Prob(Omnibus):                  0.000   Jarque-Bera (JB):         64815080.036\n",
       "Skew:                           2.348   Prob(JB):                         0.00\n",
       "Kurtosis:                     157.759   Cond. No.                         1.00\n",
       "==============================================================================\n",
       "\n",
       "Warnings:\n",
       "[1] Standard Errors assume that the covariance matrix of the errors is correctly specified.\n",
       "\"\"\""
      ]
     },
     "execution_count": 96,
     "metadata": {},
     "output_type": "execute_result"
    }
   ],
   "source": [
    "ols_model = sm.OLS(train_bath1.logerror, train_bath1.bathroomcnt)\n",
    "fit = ols_model.fit()\n",
    "fit.summary()"
   ]
  },
  {
   "cell_type": "code",
   "execution_count": 97,
   "metadata": {},
   "outputs": [
    {
     "data": {
      "text/html": [
       "<table class=\"simpletable\">\n",
       "<caption>OLS Regression Results</caption>\n",
       "<tr>\n",
       "  <th>Dep. Variable:</th>        <td>logerror</td>     <th>  R-squared:         </th> <td>   0.014</td>\n",
       "</tr>\n",
       "<tr>\n",
       "  <th>Model:</th>                   <td>OLS</td>       <th>  Adj. R-squared:    </th> <td>   0.014</td>\n",
       "</tr>\n",
       "<tr>\n",
       "  <th>Method:</th>             <td>Least Squares</td>  <th>  F-statistic:       </th> <td>   77.11</td>\n",
       "</tr>\n",
       "<tr>\n",
       "  <th>Date:</th>             <td>Mon, 25 Mar 2019</td> <th>  Prob (F-statistic):</th> <td>2.14e-18</td>\n",
       "</tr>\n",
       "<tr>\n",
       "  <th>Time:</th>                 <td>16:46:54</td>     <th>  Log-Likelihood:    </th> <td>  1043.9</td>\n",
       "</tr>\n",
       "<tr>\n",
       "  <th>No. Observations:</th>      <td>  5371</td>      <th>  AIC:               </th> <td>  -2086.</td>\n",
       "</tr>\n",
       "<tr>\n",
       "  <th>Df Residuals:</th>          <td>  5370</td>      <th>  BIC:               </th> <td>  -2079.</td>\n",
       "</tr>\n",
       "<tr>\n",
       "  <th>Df Model:</th>              <td>     1</td>      <th>                     </th>     <td> </td>   \n",
       "</tr>\n",
       "<tr>\n",
       "  <th>Covariance Type:</th>      <td>nonrobust</td>    <th>                     </th>     <td> </td>   \n",
       "</tr>\n",
       "</table>\n",
       "<table class=\"simpletable\">\n",
       "<tr>\n",
       "       <td></td>          <th>coef</th>     <th>std err</th>      <th>t</th>      <th>P>|t|</th>  <th>[0.025</th>    <th>0.975]</th>  \n",
       "</tr>\n",
       "<tr>\n",
       "  <th>bathroomcnt</th> <td>    0.0050</td> <td>    0.001</td> <td>    8.781</td> <td> 0.000</td> <td>    0.004</td> <td>    0.006</td>\n",
       "</tr>\n",
       "</table>\n",
       "<table class=\"simpletable\">\n",
       "<tr>\n",
       "  <th>Omnibus:</th>       <td>4616.588</td> <th>  Durbin-Watson:     </th>  <td>   1.990</td> \n",
       "</tr>\n",
       "<tr>\n",
       "  <th>Prob(Omnibus):</th>  <td> 0.000</td>  <th>  Jarque-Bera (JB):  </th> <td>785499.213</td>\n",
       "</tr>\n",
       "<tr>\n",
       "  <th>Skew:</th>           <td> 3.410</td>  <th>  Prob(JB):          </th>  <td>    0.00</td> \n",
       "</tr>\n",
       "<tr>\n",
       "  <th>Kurtosis:</th>       <td>61.851</td>  <th>  Cond. No.          </th>  <td>    1.00</td> \n",
       "</tr>\n",
       "</table><br/><br/>Warnings:<br/>[1] Standard Errors assume that the covariance matrix of the errors is correctly specified."
      ],
      "text/plain": [
       "<class 'statsmodels.iolib.summary.Summary'>\n",
       "\"\"\"\n",
       "                            OLS Regression Results                            \n",
       "==============================================================================\n",
       "Dep. Variable:               logerror   R-squared:                       0.014\n",
       "Model:                            OLS   Adj. R-squared:                  0.014\n",
       "Method:                 Least Squares   F-statistic:                     77.11\n",
       "Date:                Mon, 25 Mar 2019   Prob (F-statistic):           2.14e-18\n",
       "Time:                        16:46:54   Log-Likelihood:                 1043.9\n",
       "No. Observations:                5371   AIC:                            -2086.\n",
       "Df Residuals:                    5370   BIC:                            -2079.\n",
       "Df Model:                           1                                         \n",
       "Covariance Type:            nonrobust                                         \n",
       "===============================================================================\n",
       "                  coef    std err          t      P>|t|      [0.025      0.975]\n",
       "-------------------------------------------------------------------------------\n",
       "bathroomcnt     0.0050      0.001      8.781      0.000       0.004       0.006\n",
       "==============================================================================\n",
       "Omnibus:                     4616.588   Durbin-Watson:                   1.990\n",
       "Prob(Omnibus):                  0.000   Jarque-Bera (JB):           785499.213\n",
       "Skew:                           3.410   Prob(JB):                         0.00\n",
       "Kurtosis:                      61.851   Cond. No.                         1.00\n",
       "==============================================================================\n",
       "\n",
       "Warnings:\n",
       "[1] Standard Errors assume that the covariance matrix of the errors is correctly specified.\n",
       "\"\"\""
      ]
     },
     "execution_count": 97,
     "metadata": {},
     "output_type": "execute_result"
    }
   ],
   "source": [
    "ols_model = sm.OLS(train_bath2.logerror, train_bath2.bathroomcnt)\n",
    "fit = ols_model.fit()\n",
    "fit.summary()"
   ]
  },
  {
   "cell_type": "markdown",
   "metadata": {},
   "source": [
    "## train ols room count"
   ]
  },
  {
   "cell_type": "code",
   "execution_count": 98,
   "metadata": {},
   "outputs": [
    {
     "data": {
      "text/html": [
       "<table class=\"simpletable\">\n",
       "<caption>OLS Regression Results</caption>\n",
       "<tr>\n",
       "  <th>Dep. Variable:</th>        <td>logerror</td>     <th>  R-squared:         </th>  <td>   0.006</td> \n",
       "</tr>\n",
       "<tr>\n",
       "  <th>Model:</th>                   <td>OLS</td>       <th>  Adj. R-squared:    </th>  <td>   0.006</td> \n",
       "</tr>\n",
       "<tr>\n",
       "  <th>Method:</th>             <td>Least Squares</td>  <th>  F-statistic:       </th>  <td>   448.9</td> \n",
       "</tr>\n",
       "<tr>\n",
       "  <th>Date:</th>             <td>Mon, 25 Mar 2019</td> <th>  Prob (F-statistic):</th>  <td>2.57e-99</td> \n",
       "</tr>\n",
       "<tr>\n",
       "  <th>Time:</th>                 <td>16:47:03</td>     <th>  Log-Likelihood:    </th>  <td>  30472.</td> \n",
       "</tr>\n",
       "<tr>\n",
       "  <th>No. Observations:</th>      <td> 71118</td>      <th>  AIC:               </th> <td>-6.094e+04</td>\n",
       "</tr>\n",
       "<tr>\n",
       "  <th>Df Residuals:</th>          <td> 71117</td>      <th>  BIC:               </th> <td>-6.093e+04</td>\n",
       "</tr>\n",
       "<tr>\n",
       "  <th>Df Model:</th>              <td>     1</td>      <th>                     </th>      <td> </td>    \n",
       "</tr>\n",
       "<tr>\n",
       "  <th>Covariance Type:</th>      <td>nonrobust</td>    <th>                     </th>      <td> </td>    \n",
       "</tr>\n",
       "</table>\n",
       "<table class=\"simpletable\">\n",
       "<tr>\n",
       "     <td></td>        <th>coef</th>     <th>std err</th>      <th>t</th>      <th>P>|t|</th>  <th>[0.025</th>    <th>0.975]</th>  \n",
       "</tr>\n",
       "<tr>\n",
       "  <th>rmcount</th> <td>    0.0022</td> <td>    0.000</td> <td>   21.187</td> <td> 0.000</td> <td>    0.002</td> <td>    0.002</td>\n",
       "</tr>\n",
       "</table>\n",
       "<table class=\"simpletable\">\n",
       "<tr>\n",
       "  <th>Omnibus:</th>       <td>56622.585</td> <th>  Durbin-Watson:     </th>   <td>   2.004</td>  \n",
       "</tr>\n",
       "<tr>\n",
       "  <th>Prob(Omnibus):</th>  <td> 0.000</td>   <th>  Jarque-Bera (JB):  </th> <td>58693900.139</td>\n",
       "</tr>\n",
       "<tr>\n",
       "  <th>Skew:</th>           <td> 2.534</td>   <th>  Prob(JB):          </th>   <td>    0.00</td>  \n",
       "</tr>\n",
       "<tr>\n",
       "  <th>Kurtosis:</th>       <td>143.647</td>  <th>  Cond. No.          </th>   <td>    1.00</td>  \n",
       "</tr>\n",
       "</table><br/><br/>Warnings:<br/>[1] Standard Errors assume that the covariance matrix of the errors is correctly specified."
      ],
      "text/plain": [
       "<class 'statsmodels.iolib.summary.Summary'>\n",
       "\"\"\"\n",
       "                            OLS Regression Results                            \n",
       "==============================================================================\n",
       "Dep. Variable:               logerror   R-squared:                       0.006\n",
       "Model:                            OLS   Adj. R-squared:                  0.006\n",
       "Method:                 Least Squares   F-statistic:                     448.9\n",
       "Date:                Mon, 25 Mar 2019   Prob (F-statistic):           2.57e-99\n",
       "Time:                        16:47:03   Log-Likelihood:                 30472.\n",
       "No. Observations:               71118   AIC:                        -6.094e+04\n",
       "Df Residuals:                   71117   BIC:                        -6.093e+04\n",
       "Df Model:                           1                                         \n",
       "Covariance Type:            nonrobust                                         \n",
       "==============================================================================\n",
       "                 coef    std err          t      P>|t|      [0.025      0.975]\n",
       "------------------------------------------------------------------------------\n",
       "rmcount        0.0022      0.000     21.187      0.000       0.002       0.002\n",
       "==============================================================================\n",
       "Omnibus:                    56622.585   Durbin-Watson:                   2.004\n",
       "Prob(Omnibus):                  0.000   Jarque-Bera (JB):         58693900.139\n",
       "Skew:                           2.534   Prob(JB):                         0.00\n",
       "Kurtosis:                     143.647   Cond. No.                         1.00\n",
       "==============================================================================\n",
       "\n",
       "Warnings:\n",
       "[1] Standard Errors assume that the covariance matrix of the errors is correctly specified.\n",
       "\"\"\""
      ]
     },
     "execution_count": 98,
     "metadata": {},
     "output_type": "execute_result"
    }
   ],
   "source": [
    "ols_model = sm.OLS(train.logerror, train.rmcount)\n",
    "fit = ols_model.fit()\n",
    "fit.summary()"
   ]
  },
  {
   "cell_type": "markdown",
   "metadata": {},
   "source": [
    "## train ols value per square foot"
   ]
  },
  {
   "cell_type": "code",
   "execution_count": 99,
   "metadata": {},
   "outputs": [
    {
     "data": {
      "text/html": [
       "<table class=\"simpletable\">\n",
       "<caption>OLS Regression Results</caption>\n",
       "<tr>\n",
       "  <th>Dep. Variable:</th>        <td>logerror</td>     <th>  R-squared:         </th>  <td>   0.002</td> \n",
       "</tr>\n",
       "<tr>\n",
       "  <th>Model:</th>                   <td>OLS</td>       <th>  Adj. R-squared:    </th>  <td>   0.002</td> \n",
       "</tr>\n",
       "<tr>\n",
       "  <th>Method:</th>             <td>Least Squares</td>  <th>  F-statistic:       </th>  <td>   155.8</td> \n",
       "</tr>\n",
       "<tr>\n",
       "  <th>Date:</th>             <td>Mon, 25 Mar 2019</td> <th>  Prob (F-statistic):</th>  <td>1.00e-35</td> \n",
       "</tr>\n",
       "<tr>\n",
       "  <th>Time:</th>                 <td>16:47:22</td>     <th>  Log-Likelihood:    </th>  <td>  30326.</td> \n",
       "</tr>\n",
       "<tr>\n",
       "  <th>No. Observations:</th>      <td> 71118</td>      <th>  AIC:               </th> <td>-6.065e+04</td>\n",
       "</tr>\n",
       "<tr>\n",
       "  <th>Df Residuals:</th>          <td> 71117</td>      <th>  BIC:               </th> <td>-6.064e+04</td>\n",
       "</tr>\n",
       "<tr>\n",
       "  <th>Df Model:</th>              <td>     1</td>      <th>                     </th>      <td> </td>    \n",
       "</tr>\n",
       "<tr>\n",
       "  <th>Covariance Type:</th>      <td>nonrobust</td>    <th>                     </th>      <td> </td>    \n",
       "</tr>\n",
       "</table>\n",
       "<table class=\"simpletable\">\n",
       "<tr>\n",
       "         <td></td>            <th>coef</th>     <th>std err</th>      <th>t</th>      <th>P>|t|</th>  <th>[0.025</th>    <th>0.975]</th>  \n",
       "</tr>\n",
       "<tr>\n",
       "  <th>value_per_sq_ft</th> <td> 2.383e-05</td> <td> 1.91e-06</td> <td>   12.484</td> <td> 0.000</td> <td> 2.01e-05</td> <td> 2.76e-05</td>\n",
       "</tr>\n",
       "</table>\n",
       "<table class=\"simpletable\">\n",
       "<tr>\n",
       "  <th>Omnibus:</th>       <td>56337.632</td> <th>  Durbin-Watson:     </th>   <td>   2.002</td>  \n",
       "</tr>\n",
       "<tr>\n",
       "  <th>Prob(Omnibus):</th>  <td> 0.000</td>   <th>  Jarque-Bera (JB):  </th> <td>57846355.402</td>\n",
       "</tr>\n",
       "<tr>\n",
       "  <th>Skew:</th>           <td> 2.512</td>   <th>  Prob(JB):          </th>   <td>    0.00</td>  \n",
       "</tr>\n",
       "<tr>\n",
       "  <th>Kurtosis:</th>       <td>142.628</td>  <th>  Cond. No.          </th>   <td>    1.00</td>  \n",
       "</tr>\n",
       "</table><br/><br/>Warnings:<br/>[1] Standard Errors assume that the covariance matrix of the errors is correctly specified."
      ],
      "text/plain": [
       "<class 'statsmodels.iolib.summary.Summary'>\n",
       "\"\"\"\n",
       "                            OLS Regression Results                            \n",
       "==============================================================================\n",
       "Dep. Variable:               logerror   R-squared:                       0.002\n",
       "Model:                            OLS   Adj. R-squared:                  0.002\n",
       "Method:                 Least Squares   F-statistic:                     155.8\n",
       "Date:                Mon, 25 Mar 2019   Prob (F-statistic):           1.00e-35\n",
       "Time:                        16:47:22   Log-Likelihood:                 30326.\n",
       "No. Observations:               71118   AIC:                        -6.065e+04\n",
       "Df Residuals:                   71117   BIC:                        -6.064e+04\n",
       "Df Model:                           1                                         \n",
       "Covariance Type:            nonrobust                                         \n",
       "===================================================================================\n",
       "                      coef    std err          t      P>|t|      [0.025      0.975]\n",
       "-----------------------------------------------------------------------------------\n",
       "value_per_sq_ft  2.383e-05   1.91e-06     12.484      0.000    2.01e-05    2.76e-05\n",
       "==============================================================================\n",
       "Omnibus:                    56337.632   Durbin-Watson:                   2.002\n",
       "Prob(Omnibus):                  0.000   Jarque-Bera (JB):         57846355.402\n",
       "Skew:                           2.512   Prob(JB):                         0.00\n",
       "Kurtosis:                     142.628   Cond. No.                         1.00\n",
       "==============================================================================\n",
       "\n",
       "Warnings:\n",
       "[1] Standard Errors assume that the covariance matrix of the errors is correctly specified.\n",
       "\"\"\""
      ]
     },
     "execution_count": 99,
     "metadata": {},
     "output_type": "execute_result"
    }
   ],
   "source": [
    "ols_model = sm.OLS(train.logerror, train.value_per_sq_ft)\n",
    "fit = ols_model.fit()\n",
    "fit.summary()"
   ]
  },
  {
   "cell_type": "markdown",
   "metadata": {},
   "source": [
    "## train ols age of property"
   ]
  },
  {
   "cell_type": "code",
   "execution_count": 100,
   "metadata": {},
   "outputs": [
    {
     "data": {
      "text/html": [
       "<table class=\"simpletable\">\n",
       "<caption>OLS Regression Results</caption>\n",
       "<tr>\n",
       "  <th>Dep. Variable:</th>        <td>logerror</td>     <th>  R-squared:         </th>  <td>   0.003</td> \n",
       "</tr>\n",
       "<tr>\n",
       "  <th>Model:</th>                   <td>OLS</td>       <th>  Adj. R-squared:    </th>  <td>   0.003</td> \n",
       "</tr>\n",
       "<tr>\n",
       "  <th>Method:</th>             <td>Least Squares</td>  <th>  F-statistic:       </th>  <td>   246.7</td> \n",
       "</tr>\n",
       "<tr>\n",
       "  <th>Date:</th>             <td>Mon, 25 Mar 2019</td> <th>  Prob (F-statistic):</th>  <td>1.72e-55</td> \n",
       "</tr>\n",
       "<tr>\n",
       "  <th>Time:</th>                 <td>16:47:32</td>     <th>  Log-Likelihood:    </th>  <td>  30372.</td> \n",
       "</tr>\n",
       "<tr>\n",
       "  <th>No. Observations:</th>      <td> 71118</td>      <th>  AIC:               </th> <td>-6.074e+04</td>\n",
       "</tr>\n",
       "<tr>\n",
       "  <th>Df Residuals:</th>          <td> 71117</td>      <th>  BIC:               </th> <td>-6.073e+04</td>\n",
       "</tr>\n",
       "<tr>\n",
       "  <th>Df Model:</th>              <td>     1</td>      <th>                     </th>      <td> </td>    \n",
       "</tr>\n",
       "<tr>\n",
       "  <th>Covariance Type:</th>      <td>nonrobust</td>    <th>                     </th>      <td> </td>    \n",
       "</tr>\n",
       "</table>\n",
       "<table class=\"simpletable\">\n",
       "<tr>\n",
       "         <td></td>            <th>coef</th>     <th>std err</th>      <th>t</th>      <th>P>|t|</th>  <th>[0.025</th>    <th>0.975]</th>  \n",
       "</tr>\n",
       "<tr>\n",
       "  <th>age_of_property</th> <td>    0.0002</td> <td> 1.12e-05</td> <td>   15.705</td> <td> 0.000</td> <td>    0.000</td> <td>    0.000</td>\n",
       "</tr>\n",
       "</table>\n",
       "<table class=\"simpletable\">\n",
       "<tr>\n",
       "  <th>Omnibus:</th>       <td>56257.331</td> <th>  Durbin-Watson:     </th>   <td>   2.004</td>  \n",
       "</tr>\n",
       "<tr>\n",
       "  <th>Prob(Omnibus):</th>  <td> 0.000</td>   <th>  Jarque-Bera (JB):  </th> <td>58299862.721</td>\n",
       "</tr>\n",
       "<tr>\n",
       "  <th>Skew:</th>           <td> 2.502</td>   <th>  Prob(JB):          </th>   <td>    0.00</td>  \n",
       "</tr>\n",
       "<tr>\n",
       "  <th>Kurtosis:</th>       <td>143.176</td>  <th>  Cond. No.          </th>   <td>    1.00</td>  \n",
       "</tr>\n",
       "</table><br/><br/>Warnings:<br/>[1] Standard Errors assume that the covariance matrix of the errors is correctly specified."
      ],
      "text/plain": [
       "<class 'statsmodels.iolib.summary.Summary'>\n",
       "\"\"\"\n",
       "                            OLS Regression Results                            \n",
       "==============================================================================\n",
       "Dep. Variable:               logerror   R-squared:                       0.003\n",
       "Model:                            OLS   Adj. R-squared:                  0.003\n",
       "Method:                 Least Squares   F-statistic:                     246.7\n",
       "Date:                Mon, 25 Mar 2019   Prob (F-statistic):           1.72e-55\n",
       "Time:                        16:47:32   Log-Likelihood:                 30372.\n",
       "No. Observations:               71118   AIC:                        -6.074e+04\n",
       "Df Residuals:                   71117   BIC:                        -6.073e+04\n",
       "Df Model:                           1                                         \n",
       "Covariance Type:            nonrobust                                         \n",
       "===================================================================================\n",
       "                      coef    std err          t      P>|t|      [0.025      0.975]\n",
       "-----------------------------------------------------------------------------------\n",
       "age_of_property     0.0002   1.12e-05     15.705      0.000       0.000       0.000\n",
       "==============================================================================\n",
       "Omnibus:                    56257.331   Durbin-Watson:                   2.004\n",
       "Prob(Omnibus):                  0.000   Jarque-Bera (JB):         58299862.721\n",
       "Skew:                           2.502   Prob(JB):                         0.00\n",
       "Kurtosis:                     143.176   Cond. No.                         1.00\n",
       "==============================================================================\n",
       "\n",
       "Warnings:\n",
       "[1] Standard Errors assume that the covariance matrix of the errors is correctly specified.\n",
       "\"\"\""
      ]
     },
     "execution_count": 100,
     "metadata": {},
     "output_type": "execute_result"
    }
   ],
   "source": [
    "ols_model = sm.OLS(train.logerror, train.age_of_property)\n",
    "fit = ols_model.fit()\n",
    "fit.summary()"
   ]
  },
  {
   "cell_type": "markdown",
   "metadata": {},
   "source": [
    "### Data Modeling"
   ]
  },
  {
   "cell_type": "markdown",
   "metadata": {},
   "source": [
    "#### Feature Engineering & Selection\n",
    "\n",
    "#### Are there new features you could create based on existing features that might be helpful? \n",
    "Created a new room count column that is the sum of bathroom count and bedroom count, after removing the column for full bath and removing bathroom counts that were zero. Also created a column for value per sq ft, age of property, and absolute value of log error. \n",
    "\n",
    "#### Summarize your conclusions and next steps from your analysis in above. \n",
    "What will you try when developing your model? (which features to use/not use/etc)\n",
    "\n",
    "- new room count\n",
    "- value per sq ft\n",
    "- age of property\n",
    "- age of property with taxvaluedollarcnt\n",
    "- age of property with taxvaluedollarcnt with new room count\n",
    "- will not use absolute value of log error"
   ]
  },
  {
   "cell_type": "markdown",
   "metadata": {},
   "source": [
    "#### Train & Test Model\n",
    "\n",
    "#### Fit, predict (in-sample) & evaluate multiple linear regression models to find the best one."
   ]
  },
  {
   "cell_type": "markdown",
   "metadata": {},
   "source": [
    "## LM1 - Room count"
   ]
  },
  {
   "cell_type": "code",
   "execution_count": 101,
   "metadata": {},
   "outputs": [
    {
     "name": "stdout",
     "output_type": "stream",
     "text": [
      "LinearRegression(copy_X=True, fit_intercept=True, n_jobs=None,\n",
      "         normalize=False)\n"
     ]
    }
   ],
   "source": [
    "lm1 = LinearRegression() \n",
    "print(lm1)"
   ]
  },
  {
   "cell_type": "code",
   "execution_count": 102,
   "metadata": {},
   "outputs": [
    {
     "name": "stdout",
     "output_type": "stream",
     "text": [
      "LinearRegression(copy_X=True, fit_intercept=True, n_jobs=None,\n",
      "         normalize=False)\n"
     ]
    }
   ],
   "source": [
    "lm1.fit(X_train[['rmcount']], y_train)\n",
    "print(lm1)"
   ]
  },
  {
   "cell_type": "code",
   "execution_count": 103,
   "metadata": {},
   "outputs": [
    {
     "name": "stdout",
     "output_type": "stream",
     "text": [
      "[-0.00254529]\n",
      "[[0.00262152]]\n"
     ]
    }
   ],
   "source": [
    "#parameters\n",
    "lm1_y_intercept = lm1.intercept_\n",
    "print(lm1_y_intercept)\n",
    "\n",
    "lm1_coefficients = lm1.coef_\n",
    "print(lm1_coefficients)"
   ]
  },
  {
   "cell_type": "markdown",
   "metadata": {},
   "source": [
    "## Predict"
   ]
  },
  {
   "cell_type": "code",
   "execution_count": 104,
   "metadata": {},
   "outputs": [
    {
     "name": "stdout",
     "output_type": "stream",
     "text": [
      "[[0.00925157]\n",
      " [0.00794081]\n",
      " [0.01056233]\n",
      " ...\n",
      " [0.01056233]\n",
      " [0.00531928]\n",
      " [0.01056233]]\n"
     ]
    }
   ],
   "source": [
    "y_pred_lm1 = lm1.predict(X_train[['rmcount']])\n",
    "print(y_pred_lm1)"
   ]
  },
  {
   "cell_type": "markdown",
   "metadata": {},
   "source": [
    "## Evaluate"
   ]
  },
  {
   "cell_type": "code",
   "execution_count": 105,
   "metadata": {},
   "outputs": [
    {
     "name": "stdout",
     "output_type": "stream",
     "text": [
      "lm1\n",
      "  mse: 0.0249\n"
     ]
    }
   ],
   "source": [
    "mse_lm1 = mean_squared_error(y_train, y_pred_lm1)\n",
    "print(\"lm1\\n  mse: {:.3}\".format(mse_lm1)) "
   ]
  },
  {
   "cell_type": "code",
   "execution_count": 106,
   "metadata": {},
   "outputs": [
    {
     "name": "stdout",
     "output_type": "stream",
     "text": [
      "R squared value for lm1: 0.10%\n"
     ]
    }
   ],
   "source": [
    "r2_lm1 = r2_score(y_train, y_pred_lm1)\n",
    "print('R squared value for lm1: {:.2%}'.format(r2_lm1))"
   ]
  },
  {
   "cell_type": "code",
   "execution_count": 107,
   "metadata": {},
   "outputs": [
    {
     "data": {
      "text/plain": [
       "<matplotlib.collections.PathCollection at 0x1c2a2cf358>"
      ]
     },
     "execution_count": 107,
     "metadata": {},
     "output_type": "execute_result"
    },
    {
     "data": {
      "image/png": "[encoded data removed]",
      "text/plain": [
       "<Figure size 432x288 with 1 Axes>"
      ]
     },
     "metadata": {
      "needs_background": "light"
     },
     "output_type": "display_data"
    }
   ],
   "source": [
    "plt.scatter(X_train[['rmcount']], y_train)"
   ]
  },
  {
   "cell_type": "markdown",
   "metadata": {},
   "source": [
    "## LM2- Tax amount"
   ]
  },
  {
   "cell_type": "code",
   "execution_count": 108,
   "metadata": {},
   "outputs": [
    {
     "name": "stdout",
     "output_type": "stream",
     "text": [
      "LinearRegression(copy_X=True, fit_intercept=True, n_jobs=None,\n",
      "         normalize=False)\n"
     ]
    }
   ],
   "source": [
    "lm2 = LinearRegression() \n",
    "print(lm2)"
   ]
  },
  {
   "cell_type": "code",
   "execution_count": 109,
   "metadata": {},
   "outputs": [
    {
     "name": "stdout",
     "output_type": "stream",
     "text": [
      "LinearRegression(copy_X=True, fit_intercept=True, n_jobs=None,\n",
      "         normalize=False)\n"
     ]
    }
   ],
   "source": [
    "lm2.fit(X_train[['value_per_sq_ft']], y_train)\n",
    "print(lm1)"
   ]
  },
  {
   "cell_type": "code",
   "execution_count": 110,
   "metadata": {},
   "outputs": [
    {
     "name": "stdout",
     "output_type": "stream",
     "text": [
      "[0.01645496]\n",
      "[[-1.9389805e-05]]\n"
     ]
    }
   ],
   "source": [
    "#parameters\n",
    "lm2_y_intercept = lm2.intercept_\n",
    "print(lm2_y_intercept)\n",
    "\n",
    "lm2_coefficients = lm2.coef_\n",
    "print(lm2_coefficients)"
   ]
  },
  {
   "cell_type": "markdown",
   "metadata": {},
   "source": [
    "## Predict"
   ]
  },
  {
   "cell_type": "code",
   "execution_count": 111,
   "metadata": {},
   "outputs": [
    {
     "name": "stdout",
     "output_type": "stream",
     "text": [
      "[[0.0088123 ]\n",
      " [0.0124881 ]\n",
      " [0.01179504]\n",
      " ...\n",
      " [0.01354914]\n",
      " [0.01569978]\n",
      " [0.01272278]]\n"
     ]
    }
   ],
   "source": [
    "y_pred_lm2 = lm2.predict(X_train[['value_per_sq_ft']])\n",
    "print(y_pred_lm2)"
   ]
  },
  {
   "cell_type": "markdown",
   "metadata": {},
   "source": [
    "## Evaluate"
   ]
  },
  {
   "cell_type": "code",
   "execution_count": 112,
   "metadata": {},
   "outputs": [
    {
     "name": "stdout",
     "output_type": "stream",
     "text": [
      "lm2\n",
      "  mse: 0.0249\n"
     ]
    }
   ],
   "source": [
    "mse_lm2 = mean_squared_error(y_train, y_pred_lm2)\n",
    "print(\"lm2\\n  mse: {:.3}\".format(mse_lm1)) "
   ]
  },
  {
   "cell_type": "code",
   "execution_count": 113,
   "metadata": {},
   "outputs": [
    {
     "name": "stdout",
     "output_type": "stream",
     "text": [
      "R squared value for lm2: 0.05%\n"
     ]
    }
   ],
   "source": [
    "r2_lm2 = r2_score(y_train, y_pred_lm2)\n",
    "print('R squared value for lm2: {:.2%}'.format(r2_lm2))"
   ]
  },
  {
   "cell_type": "code",
   "execution_count": 114,
   "metadata": {},
   "outputs": [
    {
     "data": {
      "text/plain": [
       "<matplotlib.collections.PathCollection at 0x1c2a1d5ac8>"
      ]
     },
     "execution_count": 114,
     "metadata": {},
     "output_type": "execute_result"
    },
    {
     "data": {
      "image/png": "[encoded data removed]",
      "text/plain": [
       "<Figure size 432x288 with 1 Axes>"
      ]
     },
     "metadata": {
      "needs_background": "light"
     },
     "output_type": "display_data"
    }
   ],
   "source": [
    "plt.scatter(X_train[['value_per_sq_ft']], y_train)"
   ]
  },
  {
   "cell_type": "markdown",
   "metadata": {},
   "source": [
    "## LM3- Age of property"
   ]
  },
  {
   "cell_type": "code",
   "execution_count": 115,
   "metadata": {},
   "outputs": [
    {
     "name": "stdout",
     "output_type": "stream",
     "text": [
      "LinearRegression(copy_X=True, fit_intercept=True, n_jobs=None,\n",
      "         normalize=False)\n"
     ]
    }
   ],
   "source": [
    "lm3 = LinearRegression() \n",
    "print(lm3)"
   ]
  },
  {
   "cell_type": "code",
   "execution_count": 116,
   "metadata": {},
   "outputs": [
    {
     "name": "stdout",
     "output_type": "stream",
     "text": [
      "LinearRegression(copy_X=True, fit_intercept=True, n_jobs=None,\n",
      "         normalize=False)\n"
     ]
    }
   ],
   "source": [
    "lm3.fit(X_train[['age_of_property']], y_train)\n",
    "print(lm3)"
   ]
  },
  {
   "cell_type": "code",
   "execution_count": 117,
   "metadata": {},
   "outputs": [
    {
     "name": "stdout",
     "output_type": "stream",
     "text": [
      "[0.01613522]\n",
      "[[-9.66637577e-05]]\n"
     ]
    }
   ],
   "source": [
    "#parameters\n",
    "lm3_y_intercept = lm3.intercept_\n",
    "print(lm3_y_intercept)\n",
    "\n",
    "lm3_coefficients = lm3.coef_\n",
    "print(lm3_coefficients)"
   ]
  },
  {
   "cell_type": "markdown",
   "metadata": {},
   "source": [
    "## Predict"
   ]
  },
  {
   "cell_type": "code",
   "execution_count": 118,
   "metadata": {},
   "outputs": [
    {
     "name": "stdout",
     "output_type": "stream",
     "text": [
      "[[0.0132353 ]\n",
      " [0.01333197]\n",
      " [0.01130203]\n",
      " ...\n",
      " [0.01246199]\n",
      " [0.00975541]\n",
      " [0.01188201]]\n"
     ]
    }
   ],
   "source": [
    "y_pred_lm3 = lm3.predict(X_train[['age_of_property']])\n",
    "print(y_pred_lm3)"
   ]
  },
  {
   "cell_type": "markdown",
   "metadata": {},
   "source": [
    "## Evaluate"
   ]
  },
  {
   "cell_type": "code",
   "execution_count": 119,
   "metadata": {},
   "outputs": [
    {
     "name": "stdout",
     "output_type": "stream",
     "text": [
      "lm3\n",
      "  mse: 0.0249\n"
     ]
    }
   ],
   "source": [
    "mse_lm3 = mean_squared_error(y_train, y_pred_lm3)\n",
    "print(\"lm3\\n  mse: {:.3}\".format(mse_lm3)) "
   ]
  },
  {
   "cell_type": "code",
   "execution_count": 120,
   "metadata": {},
   "outputs": [
    {
     "name": "stdout",
     "output_type": "stream",
     "text": [
      "R squared value for lm3: 0.02%\n"
     ]
    }
   ],
   "source": [
    "r2_lm3 = r2_score(y_train, y_pred_lm3)\n",
    "print('R squared value for lm3: {:.2%}'.format(r2_lm3))"
   ]
  },
  {
   "cell_type": "code",
   "execution_count": 121,
   "metadata": {},
   "outputs": [
    {
     "data": {
      "text/plain": [
       "<matplotlib.collections.PathCollection at 0x1c2a12bc88>"
      ]
     },
     "execution_count": 121,
     "metadata": {},
     "output_type": "execute_result"
    },
    {
     "data": {
      "image/png": "[encoded data removed]",
      "text/plain": [
       "<Figure size 432x288 with 1 Axes>"
      ]
     },
     "metadata": {
      "needs_background": "light"
     },
     "output_type": "display_data"
    }
   ],
   "source": [
    "plt.scatter(X_train[['age_of_property']], y_train)"
   ]
  },
  {
   "cell_type": "markdown",
   "metadata": {},
   "source": [
    "## LM4- Age of property, tax value dollar amount"
   ]
  },
  {
   "cell_type": "code",
   "execution_count": 122,
   "metadata": {},
   "outputs": [
    {
     "name": "stdout",
     "output_type": "stream",
     "text": [
      "LinearRegression(copy_X=True, fit_intercept=True, n_jobs=None,\n",
      "         normalize=False)\n"
     ]
    }
   ],
   "source": [
    "lm4 = LinearRegression() \n",
    "print(lm4)"
   ]
  },
  {
   "cell_type": "code",
   "execution_count": 123,
   "metadata": {},
   "outputs": [
    {
     "name": "stdout",
     "output_type": "stream",
     "text": [
      "LinearRegression(copy_X=True, fit_intercept=True, n_jobs=None,\n",
      "         normalize=False)\n"
     ]
    }
   ],
   "source": [
    "lm4.fit(X_train[['age_of_property', 'taxvaluedollarcnt']], y_train)\n",
    "print(lm4)"
   ]
  },
  {
   "cell_type": "code",
   "execution_count": 124,
   "metadata": {},
   "outputs": [
    {
     "name": "stdout",
     "output_type": "stream",
     "text": [
      "[0.01510655]\n",
      "[[-9.11574092e-05  1.68260812e-09]]\n"
     ]
    }
   ],
   "source": [
    "#parameters\n",
    "lm4_y_intercept = lm4.intercept_\n",
    "print(lm4_y_intercept)\n",
    "\n",
    "lm4_coefficients = lm4.coef_\n",
    "print(lm4_coefficients)"
   ]
  },
  {
   "cell_type": "markdown",
   "metadata": {},
   "source": [
    "## Predict"
   ]
  },
  {
   "cell_type": "code",
   "execution_count": 125,
   "metadata": {},
   "outputs": [
    {
     "name": "stdout",
     "output_type": "stream",
     "text": [
      "[[0.01403981]\n",
      " [0.01280378]\n",
      " [0.01123855]\n",
      " ...\n",
      " [0.01227953]\n",
      " [0.00917693]\n",
      " [0.01148848]]\n"
     ]
    }
   ],
   "source": [
    "y_pred_lm4 = lm4.predict(X_train[['age_of_property', 'taxvaluedollarcnt']])\n",
    "print(y_pred_lm4)"
   ]
  },
  {
   "cell_type": "markdown",
   "metadata": {},
   "source": [
    "## Evaluate"
   ]
  },
  {
   "cell_type": "code",
   "execution_count": 126,
   "metadata": {},
   "outputs": [
    {
     "name": "stdout",
     "output_type": "stream",
     "text": [
      "lm4\n",
      "  mse: 0.0249\n"
     ]
    }
   ],
   "source": [
    "mse_lm4 = mean_squared_error(y_train, y_pred_lm4)\n",
    "print(\"lm4\\n  mse: {:.3}\".format(mse_lm4)) "
   ]
  },
  {
   "cell_type": "code",
   "execution_count": 127,
   "metadata": {},
   "outputs": [
    {
     "name": "stdout",
     "output_type": "stream",
     "text": [
      "R squared value for lm4: 0.02%\n"
     ]
    }
   ],
   "source": [
    "r2_lm4 = r2_score(y_train, y_pred_lm4)\n",
    "print('R squared value for lm4: {:.2%}'.format(r2_lm4))"
   ]
  },
  {
   "cell_type": "markdown",
   "metadata": {},
   "source": [
    "## LM5- Age of property, taxvaluedollarcnt, rmcount"
   ]
  },
  {
   "cell_type": "code",
   "execution_count": 128,
   "metadata": {},
   "outputs": [
    {
     "name": "stdout",
     "output_type": "stream",
     "text": [
      "LinearRegression(copy_X=True, fit_intercept=True, n_jobs=None,\n",
      "         normalize=False)\n"
     ]
    }
   ],
   "source": [
    "lm5 = LinearRegression() \n",
    "print(lm5)"
   ]
  },
  {
   "cell_type": "code",
   "execution_count": 129,
   "metadata": {},
   "outputs": [
    {
     "name": "stdout",
     "output_type": "stream",
     "text": [
      "LinearRegression(copy_X=True, fit_intercept=True, n_jobs=None,\n",
      "         normalize=False)\n"
     ]
    }
   ],
   "source": [
    "lm5.fit(X_train[['age_of_property', 'taxvaluedollarcnt', 'rmcount']], y_train)\n",
    "print(lm5)"
   ]
  },
  {
   "cell_type": "code",
   "execution_count": 130,
   "metadata": {},
   "outputs": [
    {
     "name": "stdout",
     "output_type": "stream",
     "text": [
      "[0.00066499]\n",
      "[[-5.74226585e-05 -1.89249231e-09  2.69135827e-03]]\n"
     ]
    }
   ],
   "source": [
    "#parameters\n",
    "lm5_y_intercept = lm5.intercept_\n",
    "print(lm5_y_intercept)\n",
    "\n",
    "lm5_coefficients = lm5.coef_\n",
    "print(lm5_coefficients)"
   ]
  },
  {
   "cell_type": "markdown",
   "metadata": {},
   "source": [
    "## Predict"
   ]
  },
  {
   "cell_type": "code",
   "execution_count": 131,
   "metadata": {},
   "outputs": [
    {
     "name": "stdout",
     "output_type": "stream",
     "text": [
      "[[0.00917738]\n",
      " [0.00938186]\n",
      " [0.01047472]\n",
      " ...\n",
      " [0.01122331]\n",
      " [0.00485158]\n",
      " [0.01115332]]\n"
     ]
    }
   ],
   "source": [
    "y_pred_lm5 = lm5.predict(X_train[['age_of_property', 'taxvaluedollarcnt', 'rmcount']])\n",
    "print(y_pred_lm5)"
   ]
  },
  {
   "cell_type": "markdown",
   "metadata": {},
   "source": [
    "## Evaluate"
   ]
  },
  {
   "cell_type": "code",
   "execution_count": 132,
   "metadata": {},
   "outputs": [
    {
     "name": "stdout",
     "output_type": "stream",
     "text": [
      "lm5\n",
      "  mse: 0.0248\n"
     ]
    }
   ],
   "source": [
    "mse_lm5 = mean_squared_error(y_train, y_pred_lm5)\n",
    "print(\"lm5\\n  mse: {:.3}\".format(mse_lm5)) "
   ]
  },
  {
   "cell_type": "code",
   "execution_count": 133,
   "metadata": {},
   "outputs": [
    {
     "name": "stdout",
     "output_type": "stream",
     "text": [
      "R squared value for lm5: 0.11%\n"
     ]
    }
   ],
   "source": [
    "r2_lm5 = r2_score(y_train, y_pred_lm5)\n",
    "print('R squared value for lm5: {:.2%}'.format(r2_lm5))"
   ]
  },
  {
   "cell_type": "markdown",
   "metadata": {},
   "source": [
    "Highest R squared value was with model LM5 at 0.11%, so I will use this model on the test data. "
   ]
  },
  {
   "cell_type": "markdown",
   "metadata": {},
   "source": [
    "## Out-of-sample data (Test) - age/tax value"
   ]
  },
  {
   "cell_type": "code",
   "execution_count": 134,
   "metadata": {},
   "outputs": [],
   "source": [
    "y_pred_lm5 = lm5.predict(X_test[['age_of_property', 'taxvaluedollarcnt', 'rmcount']])"
   ]
  },
  {
   "cell_type": "code",
   "execution_count": 135,
   "metadata": {},
   "outputs": [
    {
     "name": "stdout",
     "output_type": "stream",
     "text": [
      "Mean squared error: 0.03\n"
     ]
    }
   ],
   "source": [
    "mse = mean_squared_error(y_test, y_pred_lm5)\n",
    "\n",
    "print(\"Mean squared error: %.2f\" % mse)"
   ]
  },
  {
   "cell_type": "code",
   "execution_count": 136,
   "metadata": {},
   "outputs": [
    {
     "name": "stdout",
     "output_type": "stream",
     "text": [
      "0.15% of the variance in absolute log error can be explained by age of property, tax value dollar count, and room count.\n"
     ]
    }
   ],
   "source": [
    "r2 = r2_score(y_test, y_pred_lm5)\n",
    "\n",
    "print('{:.2%} of the variance in absolute log error can be explained by age of property, tax value dollar count, and room count.'\n",
    "      .format(r2))"
   ]
  },
  {
   "cell_type": "code",
   "execution_count": 138,
   "metadata": {},
   "outputs": [
    {
     "data": {
      "text/plain": [
       "Text(0.5, 1.0, 'Predicted vs Actual Log Error for test sample')"
      ]
     },
     "execution_count": 138,
     "metadata": {},
     "output_type": "execute_result"
    },
    {
     "data": {
      "image/png": "[encoded data removed]",
      "text/plain": [
       "<Figure size 427x360 with 1 Axes>"
      ]
     },
     "metadata": {
      "needs_background": "light"
     },
     "output_type": "display_data"
    }
   ],
   "source": [
    "pd.DataFrame({'actual': y_test.logerror,\n",
    "              'lm5': y_pred_lm5.ravel()})\\\n",
    "    .melt(id_vars=['actual'], var_name='model', value_name='prediction')\\\n",
    "    .pipe((sns.relplot, 'data'), x='actual', y='prediction', hue='model')\n",
    "\n",
    "plt.title('Predicted vs Actual Log Error for test sample')"
   ]
  },
  {
   "cell_type": "code",
   "execution_count": 139,
   "metadata": {},
   "outputs": [
    {
     "data": {
      "text/plain": [
       "Text(0, 0.5, 'Residuals')"
      ]
     },
     "execution_count": 139,
     "metadata": {},
     "output_type": "execute_result"
    },
    {
     "data": {
      "image/png": "[encoded data removed]",
      "text/plain": [
       "<Figure size 432x288 with 1 Axes>"
      ]
     },
     "metadata": {
      "needs_background": "light"
     },
     "output_type": "display_data"
    }
   ],
   "source": [
    "plt.scatter(y_pred_lm5, y_pred_lm5 - y_test, c='pink', s=40, edgecolors='black')\n",
    "plt.title(\"Residual plot\")\n",
    "plt.ylabel('Residuals')"
   ]
  },
  {
   "cell_type": "markdown",
   "metadata": {},
   "source": [
    "### Summarize your expectations about how you estimate this model will perform in production."
   ]
  },
  {
   "cell_type": "markdown",
   "metadata": {},
   "source": [
    "- This model will not significantly change the current Zestimate error.\n",
    "- More work needs to be done to come to any solid conclusions.\n",
    "- Binning the data might uncover where the errors lie\n",
    "- Based on the residual plot, there is a pattern of the residuals grouping in one area, and therefore there is some more work to be done.\n",
    "- Not one feature alone drives error, but all features are important and would need more exploring."
   ]
  },
  {
   "cell_type": "code",
   "execution_count": null,
   "metadata": {},
   "outputs": [],
   "source": []
  }
 ],
 "metadata": {
  "kernelspec": {
   "display_name": "Python 3",
   "language": "python",
   "name": "python3"
  },
  "language_info": {
   "codemirror_mode": {
    "name": "ipython",
    "version": 3
   },
   "file_extension": ".py",
   "mimetype": "text/x-python",
   "name": "python",
   "nbconvert_exporter": "python",
   "pygments_lexer": "ipython3",
   "version": "3.7.1"
  }
 },
 "nbformat": 4,
 "nbformat_minor": 2
}
