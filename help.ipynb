{
 "cells": [
  {
   "cell_type": "markdown",
   "metadata": {},
   "source": [
    "### Calculate % missing:"
   ]
  },
  {
   "cell_type": "code",
   "execution_count": null,
   "metadata": {},
   "outputs": [],
   "source": [
    "def percent_missing(df):\n",
    "    missing_table = df.isnull().sum()/df.shape[0]*100\n",
    "    return missing_table"
   ]
  },
  {
   "cell_type": "markdown",
   "metadata": {},
   "source": [
    "### Calculate % zeros:"
   ]
  },
  {
   "cell_type": "code",
   "execution_count": null,
   "metadata": {},
   "outputs": [],
   "source": [
    "def percent_zeros(df):\n",
    "    cols = list(df.columns)\n",
    "    zeros = {}\n",
    "    for col in cols:\n",
    "        zeros[col] = 'Zeros: {:.2f}%'.format((df[col] == 0).sum()/df.shape[0] * 100)\n",
    "        \n",
    "    return zeros"
   ]
  },
  {
   "cell_type": "markdown",
   "metadata": {},
   "source": [
    "### Replace Values:"
   ]
  },
  {
   "cell_type": "code",
   "execution_count": null,
   "metadata": {},
   "outputs": [],
   "source": [
    "def replace_values(df,entry,orginal_value,new):\n",
    "    df[entry] = df[entry].replace(orginal_value,new)\n",
    "    return df"
   ]
  },
  {
   "cell_type": "markdown",
   "metadata": {},
   "source": [
    "### Drop columns:"
   ]
  },
  {
   "cell_type": "code",
   "execution_count": null,
   "metadata": {},
   "outputs": [],
   "source": [
    "def df_drop_cols(df, to_drop):\n",
    "    return df.drop(columns=to_drop)"
   ]
  },
  {
   "cell_type": "markdown",
   "metadata": {},
   "source": [
    "### Head & Tail:"
   ]
  },
  {
   "cell_type": "code",
   "execution_count": null,
   "metadata": {},
   "outputs": [],
   "source": [
    "def df_peek(df) -> tuple:\n",
    "    \"\"\"\n",
    "    return head and tail of df\n",
    "    \"\"\"\n",
    "    return df.head().append(df.tail())"
   ]
  },
  {
   "cell_type": "markdown",
   "metadata": {},
   "source": [
    "### Float to integer:"
   ]
  },
  {
   "cell_type": "code",
   "execution_count": null,
   "metadata": {},
   "outputs": [],
   "source": [
    "def df_float_to_int(df):\n",
    "    to_coerce = {}\n",
    "    for col in df.columns:\n",
    "        if series_is_whole_nums(df[col]):\n",
    "            to_coerce[col] = int\n",
    "    return df.astype(to_coerce)"
   ]
  },
  {
   "cell_type": "markdown",
   "metadata": {},
   "source": [
    "### Remove Outliers:"
   ]
  },
  {
   "cell_type": "code",
   "execution_count": null,
   "metadata": {},
   "outputs": [],
   "source": [
    "def df_remove_outliers(df, cols, zscore_limit):\n",
    "    df_clean = None\n",
    "    for col in cols:\n",
    "        df_clean = df[\n",
    "            (np.abs(stats.zscore(df[cols])) < zscore_limit).all(axis=1)\n",
    "        ]\n",
    "    return df_clean"
   ]
  },
  {
   "cell_type": "markdown",
   "metadata": {},
   "source": [
    "### Print r & p values:"
   ]
  },
  {
   "cell_type": "code",
   "execution_count": null,
   "metadata": {},
   "outputs": [],
   "source": [
    "def df_print_r_and_p_values(X, y):\n",
    "    r_and_p_values = {col: stats.pearsonr(X[col], y) for col in X.columns}\n",
    "    print(\"PEARSON'S R\")\n",
    "    for k, v in r_and_p_values.items():\n",
    "        col = k\n",
    "        r, p = v\n",
    "        print(f\"{col}:\")\n",
    "        print(\n",
    "            f\"\\tPearson's R is {r:.2f} with a significance p-value of {p: .3}\\n\"\n",
    "        )"
   ]
  },
  {
   "cell_type": "markdown",
   "metadata": {},
   "source": [
    "### Column names & independend variables list:"
   ]
  },
  {
   "cell_type": "code",
   "execution_count": null,
   "metadata": {},
   "outputs": [],
   "source": [
    "colnames = [col for col in df]"
   ]
  },
  {
   "cell_type": "code",
   "execution_count": null,
   "metadata": {},
   "outputs": [],
   "source": [
    "x_vars = colnames[1:]"
   ]
  },
  {
   "cell_type": "markdown",
   "metadata": {},
   "source": [
    "### Binning example:"
   ]
  },
  {
   "cell_type": "code",
   "execution_count": null,
   "metadata": {},
   "outputs": [],
   "source": [
    "def get_price_bin(price: float) -> float:\n",
    "    'Bins by price range'\n",
    "    if price >= 650000:\n",
    "        return 10\n",
    "    elif price >= 600000:\n",
    "        return 9\n",
    "    elif price >= 550000:\n",
    "        return 8\n",
    "    elif price >= 500000:\n",
    "        return 7\n",
    "    elif price >= 450000:\n",
    "        return 6\n",
    "    elif price >= 400000:\n",
    "        return 5\n",
    "    elif price >= 350000:\n",
    "        return 4\n",
    "    elif price >= 300000:\n",
    "        return 3\n",
    "    elif price >= 250000:\n",
    "        return 2\n",
    "    elif price >= 200000:\n",
    "        return 1"
   ]
  },
  {
   "cell_type": "markdown",
   "metadata": {},
   "source": [
    "### Summary function:"
   ]
  },
  {
   "cell_type": "code",
   "execution_count": null,
   "metadata": {},
   "outputs": [],
   "source": [
    "def summarize_df(df):\n",
    "    print(\"\\nRows & Columns:\\n\")\n",
    "    print(df.shape)\n",
    "    print(\"\\nColumn Info:\\n\")\n",
    "    print(df.info())\n",
    "    print(\"\\nFirst 5 rows:\\n\")\n",
    "    print(df.head())\n",
    "    print(\"\\nLast 5 rows:\\n\")\n",
    "    print(df.tail())\n",
    "    print(\"\\nMissing Values:\\n\")\n",
    "    missing_vals = df.columns[df.isnull().any()]\n",
    "    print(df.isnull().sum())\n",
    "    print(\"\\nSummary Stats:\\n\")\n",
    "    print(df.describe())\n",
    "    print(\"\\nColumn IQR:\\n\")\n",
    "    var_names = df.columns.values\n",
    "    for var in var_names:\n",
    "        print(var+\":\")\n",
    "        print(iqr(df[var],axis=0))"
   ]
  },
  {
   "cell_type": "markdown",
   "metadata": {},
   "source": [
    "### Replace null data:"
   ]
  },
  {
   "cell_type": "code",
   "execution_count": null,
   "metadata": {},
   "outputs": [],
   "source": [
    "def replace_null_data(df, column_name, numerical = True):\n",
    "    if numerical == True:\n",
    "        df[column_name] = df[column_name].fillna(df[column_name].mean())\n",
    "    else:\n",
    "        df[column_name] = df[column_name].fillna(df[column_name].mode()[0])\n",
    "    \n",
    "    return df"
   ]
  },
  {
   "cell_type": "markdown",
   "metadata": {},
   "source": [
    "### Remove outliers past 3rd stdev:"
   ]
  },
  {
   "cell_type": "code",
   "execution_count": null,
   "metadata": {},
   "outputs": [],
   "source": [
    "df_fixed = df_fixed[(np.abs(stats.zscore(df_fixed)) < 3).all(axis=1)]"
   ]
  },
  {
   "cell_type": "markdown",
   "metadata": {},
   "source": [
    "### Are x and y train and test columns equal?:"
   ]
  },
  {
   "cell_type": "code",
   "execution_count": null,
   "metadata": {},
   "outputs": [],
   "source": [
    "if X_train.shape[0] == y_train.shape[0]:\n",
    "    print(\"X & y train rows ARE equal\")\n",
    "else:\n",
    "    print(\"X & y train rows ARE NOT equal\")\n",
    "\n",
    "\n",
    "if X_test.shape[0] == y_test.shape[0]:\n",
    "    print(\"X & y test rows ARE equal\")\n",
    "else:\n",
    "    print(\"X & y test rows ARE NOT equal\")\n",
    "\n",
    "if train.shape[1] == test.shape[1]:\n",
    "    print(\"Number of columns in train & test ARE equal\")\n",
    "else:\n",
    "    print(\"Number of columns in train & test ARE NOT equal\")"
   ]
  },
  {
   "cell_type": "markdown",
   "metadata": {},
   "source": [
    "### Normalize data of selected cells:"
   ]
  },
  {
   "cell_type": "code",
   "execution_count": null,
   "metadata": {},
   "outputs": [],
   "source": [
    "def norm_df_column(df, column_name):\n",
    "    df[column_name] = (df[column_name] - df[column_name].mean())/df[column_name].std()\n",
    "    return df"
   ]
  },
  {
   "cell_type": "markdown",
   "metadata": {},
   "source": [
    "### Print ttest results:"
   ]
  },
  {
   "cell_type": "code",
   "execution_count": null,
   "metadata": {},
   "outputs": [],
   "source": [
    "def print_ttest_results(ttest, alpha=0.05):\n",
    "    print(f'The p-value is : {ttest[1]}')\n",
    "    if ttest[1] < alpha:\n",
    "        print('There is a significant difference.')\n",
    "    else:\n",
    "        print('Not significant.')"
   ]
  },
  {
   "cell_type": "markdown",
   "metadata": {},
   "source": [
    "### Plot residuals:"
   ]
  },
  {
   "cell_type": "code",
   "execution_count": null,
   "metadata": {},
   "outputs": [],
   "source": [
    "def plot_residuals(y_test, preds_test):\n",
    "    y_label = y_test.columns[0]\n",
    "    plt.scatter(preds_test, preds_test - y_test, c=\"g\", s=20)\n",
    "    plt.hlines(y=0, xmin=preds_test.min(), xmax=preds_test.max())\n",
    "    plt.title(\"Residual plot\")\n",
    "    plt.ylabel(\"Residuals\")\n",
    "    plt.xlabel(y_label)\n",
    "    plt.show()"
   ]
  }
 ],
 "metadata": {
  "kernelspec": {
   "display_name": "Python 3",
   "language": "python",
   "name": "python3"
  },
  "language_info": {
   "codemirror_mode": {
    "name": "ipython",
    "version": 3
   },
   "file_extension": ".py",
   "mimetype": "text/x-python",
   "name": "python",
   "nbconvert_exporter": "python",
   "pygments_lexer": "ipython3",
   "version": "3.7.1"
  }
 },
 "nbformat": 4,
 "nbformat_minor": 2
}
